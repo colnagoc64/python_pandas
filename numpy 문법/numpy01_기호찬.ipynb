{
 "cells": [
  {
   "cell_type": "code",
   "execution_count": null,
   "id": "4dc5af75",
   "metadata": {},
   "outputs": [],
   "source": [
    "# 폴더비밀번호 ssacnp01"
   ]
  },
  {
   "cell_type": "code",
   "execution_count": 1,
   "id": "2ea36203",
   "metadata": {},
   "outputs": [
    {
     "name": "stdout",
     "output_type": "stream",
     "text": [
      "Requirement already satisfied: Numpy in c:\\users\\ki\\anaconda3\\lib\\site-packages (1.20.1)\n",
      "Note: you may need to restart the kernel to use updated packages.\n"
     ]
    }
   ],
   "source": [
    "pip install Numpy"
   ]
  },
  {
   "cell_type": "code",
   "execution_count": null,
   "id": "5391fdff",
   "metadata": {},
   "outputs": [],
   "source": [
    "# ([]) 구조를 해야 numpy 사용가능\n",
    "\n",
    "# np.arrap([1,2,3,]) 초기화 값을 지정하여 배열 생성\n",
    "# no.zeros() 값을 0을 초기화 하여 배열 생성\n",
    "# np.ones() 값을 1로 초기화 하여 배열 생성\n",
    "# np. arange() 수의 순차적인 증감을 이용하여 배열 생성\n",
    "# np.rand() 랜덤한 숫자로 배열 생성"
   ]
  },
  {
   "cell_type": "code",
   "execution_count": 2,
   "id": "4d07e07b",
   "metadata": {},
   "outputs": [
    {
     "data": {
      "text/plain": [
       "array([1, 2, 3])"
      ]
     },
     "execution_count": 2,
     "metadata": {},
     "output_type": "execute_result"
    }
   ],
   "source": [
    "import numpy as np\n",
    "\n"
   ]
  },
  {
   "cell_type": "code",
   "execution_count": 3,
   "id": "516dc692",
   "metadata": {},
   "outputs": [
    {
     "data": {
      "text/plain": [
       "array([1, 2, 3])"
      ]
     },
     "execution_count": 3,
     "metadata": {},
     "output_type": "execute_result"
    }
   ],
   "source": [
    "# np.array(아이템이 나열된 형태의 객체)\n",
    "\n",
    "list1=[1,2,3]\n",
    "arr1=np.array(list1)\n",
    "arr1"
   ]
  },
  {
   "cell_type": "code",
   "execution_count": 10,
   "id": "b995cf28",
   "metadata": {},
   "outputs": [
    {
     "data": {
      "text/plain": [
       "array([0., 0., 0., 0., 0., 0., 0., 0., 0., 0., 0., 0., 0., 0., 0., 0., 0.,\n",
       "       0., 0., 0., 0., 0., 0., 0., 0.])"
      ]
     },
     "execution_count": 10,
     "metadata": {},
     "output_type": "execute_result"
    }
   ],
   "source": [
    "# np.zeros(배열의 모양)\n",
    "\n",
    "np.zeros(5) #() 안에 인자는 정수형\n",
    "\n",
    "np.zeros(25)"
   ]
  },
  {
   "cell_type": "code",
   "execution_count": 11,
   "id": "1607f7af",
   "metadata": {},
   "outputs": [
    {
     "data": {
      "text/plain": [
       "array([[0., 0., 0., 0., 0.],\n",
       "       [0., 0., 0., 0., 0.],\n",
       "       [0., 0., 0., 0., 0.],\n",
       "       [0., 0., 0., 0., 0.],\n",
       "       [0., 0., 0., 0., 0.]])"
      ]
     },
     "execution_count": 11,
     "metadata": {},
     "output_type": "execute_result"
    }
   ],
   "source": [
    "np.zeros((2,3)) # 행렬로 표현식\n",
    "\n",
    "np.zeros((5,5))"
   ]
  },
  {
   "cell_type": "code",
   "execution_count": 15,
   "id": "f3552290",
   "metadata": {},
   "outputs": [
    {
     "data": {
      "text/plain": [
       "array([1., 1., 1., 1., 1., 1., 1.])"
      ]
     },
     "execution_count": 15,
     "metadata": {},
     "output_type": "execute_result"
    }
   ],
   "source": [
    "# np.ones()\n",
    "np.ones(7)"
   ]
  },
  {
   "cell_type": "code",
   "execution_count": 16,
   "id": "46e7d8bc",
   "metadata": {},
   "outputs": [
    {
     "data": {
      "text/plain": [
       "array([1., 1., 1., ..., 1., 1., 1.])"
      ]
     },
     "execution_count": 16,
     "metadata": {},
     "output_type": "execute_result"
    }
   ],
   "source": [
    "np.ones(5000) #ones은 전부 표시해주지 않음"
   ]
  },
  {
   "cell_type": "code",
   "execution_count": 17,
   "id": "0f7b63cb",
   "metadata": {},
   "outputs": [
    {
     "data": {
      "text/plain": [
       "array([2.12199579e-314, 6.36598737e-314, 1.06099790e-313, 1.48539705e-313,\n",
       "       1.90979621e-313])"
      ]
     },
     "execution_count": 17,
     "metadata": {},
     "output_type": "execute_result"
    }
   ],
   "source": [
    "# np.empty() 의미없는 값으로 채워지기떄문에 조심히 사용\n",
    "np.empty(5)"
   ]
  },
  {
   "cell_type": "code",
   "execution_count": 18,
   "id": "9388ce40",
   "metadata": {},
   "outputs": [
    {
     "data": {
      "text/plain": [
       "array([ 0,  1,  2,  3,  4,  5,  6,  7,  8,  9, 10, 11, 12, 13, 14, 15, 16,\n",
       "       17, 18, 19, 20, 21, 22, 23, 24, 25, 26, 27, 28, 29, 30, 31, 32, 33,\n",
       "       34, 35, 36, 37, 38, 39, 40, 41, 42, 43, 44, 45, 46, 47, 48, 49, 50,\n",
       "       51, 52, 53, 54, 55, 56, 57, 58, 59, 60, 61, 62, 63, 64, 65, 66, 67,\n",
       "       68, 69, 70, 71, 72, 73, 74, 75, 76, 77, 78, 79, 80, 81, 82, 83, 84,\n",
       "       85, 86, 87, 88, 89, 90, 91, 92, 93, 94, 95, 96, 97, 98, 99])"
      ]
     },
     "execution_count": 18,
     "metadata": {},
     "output_type": "execute_result"
    }
   ],
   "source": [
    "# np.arange([시작번호],끝번호,[건너뛰는 수])\n",
    "\n",
    "np.arange(100)"
   ]
  },
  {
   "cell_type": "code",
   "execution_count": 19,
   "id": "cc47c170",
   "metadata": {},
   "outputs": [
    {
     "data": {
      "text/plain": [
       "array([20, 22, 24, 26, 28])"
      ]
     },
     "execution_count": 19,
     "metadata": {},
     "output_type": "execute_result"
    }
   ],
   "source": [
    "np.arange(20,30,2) # 숫자위치의 의미 20 : 시작번호/ 30: 끝번호 / 2 :건너뛰는수  /마지막수는 포함x 미만 .range() 랑같다"
   ]
  },
  {
   "cell_type": "code",
   "execution_count": 21,
   "id": "ba56dcdd",
   "metadata": {},
   "outputs": [
    {
     "data": {
      "text/plain": [
       "array([[0.24887074, 0.24388993, 0.64505248],\n",
       "       [0.61714631, 0.43358465, 0.13643671]])"
      ]
     },
     "execution_count": 21,
     "metadata": {},
     "output_type": "execute_result"
    }
   ],
   "source": [
    "# np.random.randn() 숫자를 랜덤으로 생성\n",
    "\n",
    "np.random.rand(2,3)"
   ]
  },
  {
   "cell_type": "code",
   "execution_count": null,
   "id": "4bf08f2a",
   "metadata": {},
   "outputs": [],
   "source": [
    "# rand 균등분포에서 랜덤 추출\n",
    "# randint 주어진 범위 안에서 랜덤 추출\n",
    "# rando 표준정규분포에서 랜덤 추출 (평균이 0,표준편차 1)\n",
    "# normal 정규분포에서 랜덤 추출\n",
    "# seed 랜덤값 생성기의 시드를 지정\n",
    "# shuffle 리스트나 배열 순서 섞음"
   ]
  },
  {
   "cell_type": "code",
   "execution_count": 25,
   "id": "ceb290da",
   "metadata": {},
   "outputs": [
    {
     "name": "stdout",
     "output_type": "stream",
     "text": [
      "[[0.68061239 0.23405514 0.61370504 0.96557873 0.81296563 0.68611736\n",
      "  0.30406864 0.51198319 0.03470946 0.74694557 0.29309029 0.26539745\n",
      "  0.46166406 0.36696838 0.61458663 0.73889299 0.35995022 0.60307337\n",
      "  0.54352893 0.09367076]\n",
      " [0.73109898 0.60117607 0.53882514 0.53728418 0.62910226 0.93552832\n",
      "  0.61045864 0.97334903 0.83779916 0.12376444 0.17620697 0.52996567\n",
      "  0.59657773 0.98696087 0.07124501 0.18717103 0.13240075 0.08743681\n",
      "  0.9042788  0.12908111]\n",
      " [0.53736365 0.41239502 0.29456605 0.0890403  0.12056765 0.43820872\n",
      "  0.16784111 0.56161571 0.86505711 0.83611982 0.67123376 0.52359119\n",
      "  0.46208096 0.49775213 0.73506445 0.81970299 0.43877003 0.73231355\n",
      "  0.82906584 0.73861851]\n",
      " [0.69309348 0.39518222 0.84017556 0.64703898 0.18556364 0.86917595\n",
      "  0.78883432 0.4341057  0.74324934 0.95017564 0.28147928 0.00328561\n",
      "  0.5639237  0.3823957  0.50810633 0.14813033 0.05951846 0.81372558\n",
      "  0.46855681 0.9997905 ]\n",
      " [0.1151634  0.83373979 0.2289088  0.07301931 0.63398811 0.86238145\n",
      "  0.97751195 0.54173586 0.401057   0.09629703 0.78841455 0.25369606\n",
      "  0.43230177 0.06537555 0.15637771 0.30734063 0.15981619 0.45277285\n",
      "  0.23894301 0.97820398]\n",
      " [0.42446561 0.9916156  0.51172377 0.41300319 0.33606458 0.15958656\n",
      "  0.24829975 0.92742825 0.62749893 0.10496617 0.36710465 0.07710697\n",
      "  0.07840243 0.40645789 0.58020671 0.08156238 0.00971602 0.8089339\n",
      "  0.76134763 0.90063365]\n",
      " [0.13359295 0.42293689 0.1925316  0.4033059  0.76776361 0.4806456\n",
      "  0.85412787 0.66637165 0.06258985 0.14206969 0.41742055 0.18475437\n",
      "  0.19115742 0.37599847 0.17991107 0.87538526 0.7127819  0.78951338\n",
      "  0.17610276 0.28433506]]\n"
     ]
    }
   ],
   "source": [
    "ary =np.random.rand(7,20)\n",
    "print(ary)"
   ]
  },
  {
   "cell_type": "code",
   "execution_count": 26,
   "id": "f3d8d400",
   "metadata": {},
   "outputs": [
    {
     "name": "stdout",
     "output_type": "stream",
     "text": [
      "False\n"
     ]
    }
   ],
   "source": [
    "print(np.all(ary>=0.3)) # all 배열의 모든 원소가 조건을 만족하면 true 출력"
   ]
  },
  {
   "cell_type": "code",
   "execution_count": 27,
   "id": "9d6338b1",
   "metadata": {},
   "outputs": [
    {
     "name": "stdout",
     "output_type": "stream",
     "text": [
      "True\n"
     ]
    }
   ],
   "source": [
    "print(np.any(ary >0.7)) # any 배열에 조건을 만족하는 원소가 있으면 true 출력"
   ]
  },
  {
   "cell_type": "code",
   "execution_count": 33,
   "id": "f24765c5",
   "metadata": {},
   "outputs": [
    {
     "data": {
      "text/plain": [
       "array([ 0,  1,  2,  3,  4,  5,  6,  7,  8,  9, 10, 11, 12, 13, 14, 15, 16,\n",
       "       17, 18, 19, 20, 21, 22, 23, 24, 25, 26, 27, 28, 29, 30, 31, 32, 33,\n",
       "       34, 35, 36, 37, 38, 39, 40, 41, 42, 43, 44, 45, 46, 47, 48, 49, 50,\n",
       "       51, 52, 53, 54, 55, 56, 57, 58, 59, 60, 61, 62, 63, 64, 65, 66, 67,\n",
       "       68, 69, 70, 71, 72, 73, 74, 75, 76, 77, 78, 79, 80, 81, 82, 83, 84,\n",
       "       85, 86, 87, 88, 89, 90, 91, 92, 93, 94, 95, 96, 97, 98, 99])"
      ]
     },
     "execution_count": 33,
     "metadata": {},
     "output_type": "execute_result"
    }
   ],
   "source": [
    "#np.reshape() 기존데이터에 배열 바꾸는거\n",
    "\n",
    "arr2=np.arange(100)\n",
    "arr2"
   ]
  },
  {
   "cell_type": "code",
   "execution_count": 34,
   "id": "826cd7e5",
   "metadata": {},
   "outputs": [
    {
     "data": {
      "text/plain": [
       "array([[ 0,  1,  2,  3,  4,  5,  6,  7,  8,  9],\n",
       "       [10, 11, 12, 13, 14, 15, 16, 17, 18, 19],\n",
       "       [20, 21, 22, 23, 24, 25, 26, 27, 28, 29],\n",
       "       [30, 31, 32, 33, 34, 35, 36, 37, 38, 39],\n",
       "       [40, 41, 42, 43, 44, 45, 46, 47, 48, 49],\n",
       "       [50, 51, 52, 53, 54, 55, 56, 57, 58, 59],\n",
       "       [60, 61, 62, 63, 64, 65, 66, 67, 68, 69],\n",
       "       [70, 71, 72, 73, 74, 75, 76, 77, 78, 79],\n",
       "       [80, 81, 82, 83, 84, 85, 86, 87, 88, 89],\n",
       "       [90, 91, 92, 93, 94, 95, 96, 97, 98, 99]])"
      ]
     },
     "execution_count": 34,
     "metadata": {},
     "output_type": "execute_result"
    }
   ],
   "source": [
    "arr2.reshape(10,10)"
   ]
  },
  {
   "cell_type": "code",
   "execution_count": 35,
   "id": "8c761669",
   "metadata": {},
   "outputs": [
    {
     "data": {
      "text/plain": [
       "array([[ 0,  1,  2,  3,  4,  5,  6,  7,  8,  9, 10, 11, 12, 13, 14, 15,\n",
       "        16, 17, 18, 19, 20, 21, 22, 23, 24, 25, 26, 27, 28, 29, 30, 31,\n",
       "        32, 33, 34, 35, 36, 37, 38, 39, 40, 41, 42, 43, 44, 45, 46, 47,\n",
       "        48, 49],\n",
       "       [50, 51, 52, 53, 54, 55, 56, 57, 58, 59, 60, 61, 62, 63, 64, 65,\n",
       "        66, 67, 68, 69, 70, 71, 72, 73, 74, 75, 76, 77, 78, 79, 80, 81,\n",
       "        82, 83, 84, 85, 86, 87, 88, 89, 90, 91, 92, 93, 94, 95, 96, 97,\n",
       "        98, 99]])"
      ]
     },
     "execution_count": 35,
     "metadata": {},
     "output_type": "execute_result"
    }
   ],
   "source": [
    "arr2.reshape(2,50)"
   ]
  },
  {
   "cell_type": "code",
   "execution_count": 36,
   "id": "e964f396",
   "metadata": {},
   "outputs": [
    {
     "data": {
      "text/plain": [
       "array([[ 0,  1,  2,  3,  4,  5,  6,  7,  8,  9, 10, 11, 12, 13, 14, 15,\n",
       "        16, 17, 18, 19, 20, 21, 22, 23, 24],\n",
       "       [25, 26, 27, 28, 29, 30, 31, 32, 33, 34, 35, 36, 37, 38, 39, 40,\n",
       "        41, 42, 43, 44, 45, 46, 47, 48, 49],\n",
       "       [50, 51, 52, 53, 54, 55, 56, 57, 58, 59, 60, 61, 62, 63, 64, 65,\n",
       "        66, 67, 68, 69, 70, 71, 72, 73, 74],\n",
       "       [75, 76, 77, 78, 79, 80, 81, 82, 83, 84, 85, 86, 87, 88, 89, 90,\n",
       "        91, 92, 93, 94, 95, 96, 97, 98, 99]])"
      ]
     },
     "execution_count": 36,
     "metadata": {},
     "output_type": "execute_result"
    }
   ],
   "source": [
    "arr2.reshape(4,25)"
   ]
  },
  {
   "cell_type": "code",
   "execution_count": 37,
   "id": "4aef3585",
   "metadata": {},
   "outputs": [
    {
     "data": {
      "text/plain": [
       "array([[ 0,  1,  2,  3,  4,  5,  6,  7,  8,  9, 10, 11, 12, 13, 14, 15,\n",
       "        16, 17, 18, 19],\n",
       "       [20, 21, 22, 23, 24, 25, 26, 27, 28, 29, 30, 31, 32, 33, 34, 35,\n",
       "        36, 37, 38, 39],\n",
       "       [40, 41, 42, 43, 44, 45, 46, 47, 48, 49, 50, 51, 52, 53, 54, 55,\n",
       "        56, 57, 58, 59],\n",
       "       [60, 61, 62, 63, 64, 65, 66, 67, 68, 69, 70, 71, 72, 73, 74, 75,\n",
       "        76, 77, 78, 79],\n",
       "       [80, 81, 82, 83, 84, 85, 86, 87, 88, 89, 90, 91, 92, 93, 94, 95,\n",
       "        96, 97, 98, 99]])"
      ]
     },
     "execution_count": 37,
     "metadata": {},
     "output_type": "execute_result"
    }
   ],
   "source": [
    "arr2.reshape(5,20)"
   ]
  },
  {
   "cell_type": "code",
   "execution_count": 38,
   "id": "c2bb6562",
   "metadata": {},
   "outputs": [
    {
     "data": {
      "text/plain": [
       "array([[ 0,  1,  2,  3,  4],\n",
       "       [ 5,  6,  7,  8,  9],\n",
       "       [10, 11, 12, 13, 14],\n",
       "       [15, 16, 17, 18, 19],\n",
       "       [20, 21, 22, 23, 24],\n",
       "       [25, 26, 27, 28, 29],\n",
       "       [30, 31, 32, 33, 34],\n",
       "       [35, 36, 37, 38, 39],\n",
       "       [40, 41, 42, 43, 44],\n",
       "       [45, 46, 47, 48, 49],\n",
       "       [50, 51, 52, 53, 54],\n",
       "       [55, 56, 57, 58, 59],\n",
       "       [60, 61, 62, 63, 64],\n",
       "       [65, 66, 67, 68, 69],\n",
       "       [70, 71, 72, 73, 74],\n",
       "       [75, 76, 77, 78, 79],\n",
       "       [80, 81, 82, 83, 84],\n",
       "       [85, 86, 87, 88, 89],\n",
       "       [90, 91, 92, 93, 94],\n",
       "       [95, 96, 97, 98, 99]])"
      ]
     },
     "execution_count": 38,
     "metadata": {},
     "output_type": "execute_result"
    }
   ],
   "source": [
    "arr2.reshape(20,5)"
   ]
  },
  {
   "cell_type": "code",
   "execution_count": 39,
   "id": "3cf1e525",
   "metadata": {},
   "outputs": [
    {
     "data": {
      "text/plain": [
       "array([[ 0,  1,  2,  3],\n",
       "       [ 4,  5,  6,  7],\n",
       "       [ 8,  9, 10, 11],\n",
       "       [12, 13, 14, 15],\n",
       "       [16, 17, 18, 19],\n",
       "       [20, 21, 22, 23],\n",
       "       [24, 25, 26, 27],\n",
       "       [28, 29, 30, 31],\n",
       "       [32, 33, 34, 35],\n",
       "       [36, 37, 38, 39],\n",
       "       [40, 41, 42, 43],\n",
       "       [44, 45, 46, 47],\n",
       "       [48, 49, 50, 51],\n",
       "       [52, 53, 54, 55],\n",
       "       [56, 57, 58, 59],\n",
       "       [60, 61, 62, 63],\n",
       "       [64, 65, 66, 67],\n",
       "       [68, 69, 70, 71],\n",
       "       [72, 73, 74, 75],\n",
       "       [76, 77, 78, 79],\n",
       "       [80, 81, 82, 83],\n",
       "       [84, 85, 86, 87],\n",
       "       [88, 89, 90, 91],\n",
       "       [92, 93, 94, 95],\n",
       "       [96, 97, 98, 99]])"
      ]
     },
     "execution_count": 39,
     "metadata": {},
     "output_type": "execute_result"
    }
   ],
   "source": [
    "arr2.reshape(25,4)"
   ]
  },
  {
   "cell_type": "code",
   "execution_count": 41,
   "id": "9b93e104",
   "metadata": {},
   "outputs": [
    {
     "data": {
      "text/plain": [
       "array([[[ 0,  1,  2,  3],\n",
       "        [ 4,  5,  6,  7],\n",
       "        [ 8,  9, 10, 11],\n",
       "        [12, 13, 14, 15],\n",
       "        [16, 17, 18, 19]],\n",
       "\n",
       "       [[20, 21, 22, 23],\n",
       "        [24, 25, 26, 27],\n",
       "        [28, 29, 30, 31],\n",
       "        [32, 33, 34, 35],\n",
       "        [36, 37, 38, 39]],\n",
       "\n",
       "       [[40, 41, 42, 43],\n",
       "        [44, 45, 46, 47],\n",
       "        [48, 49, 50, 51],\n",
       "        [52, 53, 54, 55],\n",
       "        [56, 57, 58, 59]],\n",
       "\n",
       "       [[60, 61, 62, 63],\n",
       "        [64, 65, 66, 67],\n",
       "        [68, 69, 70, 71],\n",
       "        [72, 73, 74, 75],\n",
       "        [76, 77, 78, 79]],\n",
       "\n",
       "       [[80, 81, 82, 83],\n",
       "        [84, 85, 86, 87],\n",
       "        [88, 89, 90, 91],\n",
       "        [92, 93, 94, 95],\n",
       "        [96, 97, 98, 99]]])"
      ]
     },
     "execution_count": 41,
     "metadata": {},
     "output_type": "execute_result"
    }
   ],
   "source": [
    "arr2.reshape(5,5,4) # arange 소인수분해 각 원소에 곱의값이 aragne 인수값이되어야함"
   ]
  },
  {
   "cell_type": "code",
   "execution_count": 42,
   "id": "bb532d41",
   "metadata": {},
   "outputs": [
    {
     "data": {
      "text/plain": [
       "array([[[ 0,  1,  2,  3,  4,  5,  6,  7,  8,  9],\n",
       "        [10, 11, 12, 13, 14, 15, 16, 17, 18, 19],\n",
       "        [20, 21, 22, 23, 24, 25, 26, 27, 28, 29],\n",
       "        [30, 31, 32, 33, 34, 35, 36, 37, 38, 39],\n",
       "        [40, 41, 42, 43, 44, 45, 46, 47, 48, 49]],\n",
       "\n",
       "       [[50, 51, 52, 53, 54, 55, 56, 57, 58, 59],\n",
       "        [60, 61, 62, 63, 64, 65, 66, 67, 68, 69],\n",
       "        [70, 71, 72, 73, 74, 75, 76, 77, 78, 79],\n",
       "        [80, 81, 82, 83, 84, 85, 86, 87, 88, 89],\n",
       "        [90, 91, 92, 93, 94, 95, 96, 97, 98, 99]]])"
      ]
     },
     "execution_count": 42,
     "metadata": {},
     "output_type": "execute_result"
    }
   ],
   "source": [
    "arr2.reshape(2,5,10) # 앞수 덩어리 개수/ 중간 행의 개수/ 마지막 열의 개수"
   ]
  },
  {
   "cell_type": "code",
   "execution_count": 44,
   "id": "c527f214",
   "metadata": {},
   "outputs": [],
   "source": [
    "arr=np.arange(10)"
   ]
  },
  {
   "cell_type": "code",
   "execution_count": 48,
   "id": "5704b7eb",
   "metadata": {},
   "outputs": [
    {
     "data": {
      "text/plain": [
       "(10,)"
      ]
     },
     "execution_count": 48,
     "metadata": {},
     "output_type": "execute_result"
    }
   ],
   "source": [
    "#shape 배열의 형태 확인\n",
    "arr.shape"
   ]
  },
  {
   "cell_type": "code",
   "execution_count": 46,
   "id": "590eb60f",
   "metadata": {},
   "outputs": [
    {
     "data": {
      "text/plain": [
       "dtype('int32')"
      ]
     },
     "execution_count": 46,
     "metadata": {},
     "output_type": "execute_result"
    }
   ],
   "source": [
    "arr.dtype"
   ]
  },
  {
   "cell_type": "code",
   "execution_count": 47,
   "id": "9d187b0e",
   "metadata": {},
   "outputs": [
    {
     "data": {
      "text/plain": [
       "array([0., 1., 2., 3., 4., 5., 6., 7., 8., 9.])"
      ]
     },
     "execution_count": 47,
     "metadata": {},
     "output_type": "execute_result"
    }
   ],
   "source": [
    "arr.astype(float)"
   ]
  },
  {
   "cell_type": "code",
   "execution_count": 61,
   "id": "ddf06267",
   "metadata": {},
   "outputs": [
    {
     "name": "stdout",
     "output_type": "stream",
     "text": [
      "11.0\n"
     ]
    }
   ],
   "source": [
    "x= np.array([1,2,3,4,5,6,7,8,9,10,11,12,13,14,15,16,17,18,19,20,21])\n",
    "print(x.mean())"
   ]
  },
  {
   "cell_type": "code",
   "execution_count": 57,
   "id": "98adc469",
   "metadata": {},
   "outputs": [
    {
     "name": "stdout",
     "output_type": "stream",
     "text": [
      "(21,)\n"
     ]
    }
   ],
   "source": [
    "print(x.shape)"
   ]
  },
  {
   "cell_type": "code",
   "execution_count": 65,
   "id": "d16362fd",
   "metadata": {},
   "outputs": [
    {
     "data": {
      "text/plain": [
       "array([1, 3, 5])"
      ]
     },
     "execution_count": 65,
     "metadata": {},
     "output_type": "execute_result"
    }
   ],
   "source": [
    "x=np.array([1,3,5])\n",
    "x"
   ]
  },
  {
   "cell_type": "code",
   "execution_count": 68,
   "id": "748f7708",
   "metadata": {},
   "outputs": [
    {
     "name": "stdout",
     "output_type": "stream",
     "text": [
      "[[ 1  3]\n",
      " [ 5  7]\n",
      " [ 9 11]]\n"
     ]
    }
   ],
   "source": [
    "x= np.array([1,3,5,7,9,11]).reshape(3,2)\n",
    "print(x)"
   ]
  },
  {
   "cell_type": "code",
   "execution_count": 69,
   "id": "a985c112",
   "metadata": {},
   "outputs": [
    {
     "name": "stdout",
     "output_type": "stream",
     "text": [
      "[[1. 1. 1. 1.]\n",
      " [1. 1. 1. 1.]\n",
      " [1. 1. 1. 1.]]\n"
     ]
    }
   ],
   "source": [
    "y= np.ones([3,4]) #ones 배열의 값을 1로 채움\n",
    "print(y)"
   ]
  },
  {
   "cell_type": "code",
   "execution_count": 76,
   "id": "7ed4db08",
   "metadata": {},
   "outputs": [
    {
     "name": "stdout",
     "output_type": "stream",
     "text": [
      "[2 4 6]\n"
     ]
    }
   ],
   "source": [
    "x= np.array([[1,3,5],[2,4,6]])\n",
    "print(x[1])"
   ]
  },
  {
   "cell_type": "code",
   "execution_count": 72,
   "id": "7a780c1e",
   "metadata": {},
   "outputs": [
    {
     "name": "stdout",
     "output_type": "stream",
     "text": [
      "4.0\n"
     ]
    }
   ],
   "source": [
    "print(x[1].mean())"
   ]
  },
  {
   "cell_type": "code",
   "execution_count": 73,
   "id": "1001c076",
   "metadata": {},
   "outputs": [
    {
     "name": "stdout",
     "output_type": "stream",
     "text": [
      "3.5\n"
     ]
    }
   ],
   "source": [
    "print(x.mean())"
   ]
  },
  {
   "cell_type": "code",
   "execution_count": 74,
   "id": "f7d9b2bf",
   "metadata": {},
   "outputs": [
    {
     "name": "stdout",
     "output_type": "stream",
     "text": [
      "(2, 3)\n"
     ]
    }
   ],
   "source": [
    "print(x.shape)"
   ]
  },
  {
   "cell_type": "code",
   "execution_count": 99,
   "id": "55ab22df",
   "metadata": {},
   "outputs": [
    {
     "data": {
      "text/plain": [
       "array([ 0,  1,  2,  3,  4,  5,  6,  7,  8,  9, 10, 11, 12, 13, 14, 15])"
      ]
     },
     "execution_count": 99,
     "metadata": {},
     "output_type": "execute_result"
    }
   ],
   "source": [
    "arr= np.arange(16)\n",
    "arr"
   ]
  },
  {
   "cell_type": "code",
   "execution_count": 78,
   "id": "ff8356b3",
   "metadata": {},
   "outputs": [
    {
     "data": {
      "text/plain": [
       "5"
      ]
     },
     "execution_count": 78,
     "metadata": {},
     "output_type": "execute_result"
    }
   ],
   "source": [
    "# 기본인덱스\n",
    "arr[5]"
   ]
  },
  {
   "cell_type": "code",
   "execution_count": 79,
   "id": "a21801b6",
   "metadata": {},
   "outputs": [
    {
     "data": {
      "text/plain": [
       "15"
      ]
     },
     "execution_count": 79,
     "metadata": {},
     "output_type": "execute_result"
    }
   ],
   "source": [
    "arr[-1]"
   ]
  },
  {
   "cell_type": "code",
   "execution_count": 80,
   "id": "d0a61a51",
   "metadata": {},
   "outputs": [
    {
     "data": {
      "text/plain": [
       "array([5, 6, 7])"
      ]
     },
     "execution_count": 80,
     "metadata": {},
     "output_type": "execute_result"
    }
   ],
   "source": [
    "#인덱스 범위\n",
    "arr[5:8]"
   ]
  },
  {
   "cell_type": "code",
   "execution_count": 105,
   "id": "4c03d458",
   "metadata": {},
   "outputs": [
    {
     "data": {
      "text/plain": [
       "array([  0,   1,   2,   3,   4, 100, 200, 201,   8,   9,  10,  11,  12,\n",
       "        13,  14,  15])"
      ]
     },
     "execution_count": 105,
     "metadata": {},
     "output_type": "execute_result"
    }
   ],
   "source": [
    "arr[5] = 100  #추가가 아니라 그위치에 인덱스만 교환\n",
    "arr"
   ]
  },
  {
   "cell_type": "code",
   "execution_count": 106,
   "id": "1ec72c60",
   "metadata": {},
   "outputs": [
    {
     "data": {
      "text/plain": [
       "array([  0,   1,   2,   3,   4, 100, 200, 201,   8,   9,  10,  11,  12,\n",
       "        13,  14,  15])"
      ]
     },
     "execution_count": 106,
     "metadata": {},
     "output_type": "execute_result"
    }
   ],
   "source": [
    "arr[6:8]=[200,201] # 인덱스 교환에 범위는 [6:8]의미는  6이상 8미만\n",
    "arr"
   ]
  },
  {
   "cell_type": "code",
   "execution_count": 108,
   "id": "ac590ccb",
   "metadata": {},
   "outputs": [
    {
     "data": {
      "text/plain": [
       "array([[ 0,  1,  2,  3],\n",
       "       [ 4,  5,  6,  7],\n",
       "       [ 8,  9, 10, 11],\n",
       "       [12, 13, 14, 15]])"
      ]
     },
     "execution_count": 108,
     "metadata": {},
     "output_type": "execute_result"
    }
   ],
   "source": [
    "arr2= np.arange(16).reshape(4,4)\n",
    "arr2"
   ]
  },
  {
   "cell_type": "code",
   "execution_count": 109,
   "id": "a34e9f50",
   "metadata": {},
   "outputs": [
    {
     "data": {
      "text/plain": [
       "array([4, 5, 6, 7])"
      ]
     },
     "execution_count": 109,
     "metadata": {},
     "output_type": "execute_result"
    }
   ],
   "source": [
    "arr2[1]"
   ]
  },
  {
   "cell_type": "code",
   "execution_count": 110,
   "id": "73245d5e",
   "metadata": {},
   "outputs": [
    {
     "data": {
      "text/plain": [
       "5"
      ]
     },
     "execution_count": 110,
     "metadata": {},
     "output_type": "execute_result"
    }
   ],
   "source": [
    "arr2[1][1]"
   ]
  },
  {
   "cell_type": "code",
   "execution_count": 111,
   "id": "2390ea50",
   "metadata": {},
   "outputs": [
    {
     "data": {
      "text/plain": [
       "array([[  0,   1,   2,   3],\n",
       "       [  4, 300,   6,   7],\n",
       "       [  8,   9,  10,  11],\n",
       "       [ 12,  13,  14,  15]])"
      ]
     },
     "execution_count": 111,
     "metadata": {},
     "output_type": "execute_result"
    }
   ],
   "source": [
    "arr2[1][1]=300\n",
    "arr2"
   ]
  },
  {
   "cell_type": "code",
   "execution_count": 113,
   "id": "0a00d1e9",
   "metadata": {},
   "outputs": [
    {
     "data": {
      "text/plain": [
       "array([[  0,   1,   2,   3],\n",
       "       [  4, 300,   6,   7],\n",
       "       [  8,   9,  10,  11],\n",
       "       [ 12,  13, 200,  15]])"
      ]
     },
     "execution_count": 113,
     "metadata": {},
     "output_type": "execute_result"
    }
   ],
   "source": [
    "arr2[3][2] =200\n",
    "arr2"
   ]
  },
  {
   "cell_type": "code",
   "execution_count": 115,
   "id": "eccc7f2a",
   "metadata": {},
   "outputs": [
    {
     "data": {
      "text/plain": [
       "array([80, 90, 70, 65, 85, 95, 80, 75, 80])"
      ]
     },
     "execution_count": 115,
     "metadata": {},
     "output_type": "execute_result"
    }
   ],
   "source": [
    "#불리언 언덱스\n",
    "#true, false 의 값을 갖는 자료형\n",
    "\n",
    "score=[80,90,70,65,85,95,80,75,80]\n",
    "score_arr=np.array(score)\n",
    "score_arr\n"
   ]
  },
  {
   "cell_type": "code",
   "execution_count": 116,
   "id": "90a0f738",
   "metadata": {},
   "outputs": [
    {
     "data": {
      "text/plain": [
       "array([False,  True, False, False, False,  True, False, False, False])"
      ]
     },
     "execution_count": 116,
     "metadata": {},
     "output_type": "execute_result"
    }
   ],
   "source": [
    "score_arr >=90 #90점 이상만 true"
   ]
  },
  {
   "cell_type": "code",
   "execution_count": 117,
   "id": "267dbb15",
   "metadata": {},
   "outputs": [
    {
     "data": {
      "text/plain": [
       "array([90, 95])"
      ]
     },
     "execution_count": 117,
     "metadata": {},
     "output_type": "execute_result"
    }
   ],
   "source": [
    "score_arr[score_arr >=90] #90점 이상인거 결과값 나오게 "
   ]
  },
  {
   "cell_type": "code",
   "execution_count": 122,
   "id": "dba980ff",
   "metadata": {},
   "outputs": [
    {
     "data": {
      "text/plain": [
       "array([ 80, 999,  70,  65,  85, 999,  80,  75,  80])"
      ]
     },
     "execution_count": 122,
     "metadata": {},
     "output_type": "execute_result"
    }
   ],
   "source": [
    "score_arr[score_arr >=90]=999 #90점이상 999로 치환 인덱스교환이랑 같음\n",
    "score_arr "
   ]
  },
  {
   "cell_type": "code",
   "execution_count": 123,
   "id": "4480ce48",
   "metadata": {},
   "outputs": [],
   "source": [
    "#메서드 체인 (method chain)  \n",
    "arr2= np.arange(16).reshape(4,4) #코드라인 줄여서 눈에들어오게하는 방식"
   ]
  },
  {
   "cell_type": "code",
   "execution_count": 126,
   "id": "853598e5",
   "metadata": {},
   "outputs": [
    {
     "name": "stdout",
     "output_type": "stream",
     "text": [
      "[10 20 30 40 50 60 70]\n",
      "[False False False False False  True  True]\n"
     ]
    }
   ],
   "source": [
    "a= np.array([10,20,30,40,50,60,70])\n",
    "print(a)\n",
    "b= a>50\n",
    "print(b)"
   ]
  },
  {
   "cell_type": "code",
   "execution_count": 139,
   "id": "fb99b5cc",
   "metadata": {},
   "outputs": [
    {
     "name": "stdout",
     "output_type": "stream",
     "text": [
      "[[1 2 3]\n",
      " [4 5 6]\n",
      " [7 8 9]]\n",
      "[4 5 6]\n",
      "[[1 2 3]]\n"
     ]
    }
   ],
   "source": [
    "x = np.array([[1,2,3],[4,5,6],[7,8,9]]) #상항 [[]] 이형식 지키기\n",
    "print(x)\n",
    "print(x[1]) # x 배열의 인덱스 1번 내용을 출력\n",
    "print(x[:1]) # 1차원 배열의 1번 내용을 출력 "
   ]
  },
  {
   "cell_type": "code",
   "execution_count": 132,
   "id": "47990de7",
   "metadata": {},
   "outputs": [
    {
     "name": "stdout",
     "output_type": "stream",
     "text": [
      "[ 5 11 17]\n"
     ]
    }
   ],
   "source": [
    "x = np.array([[1,2,3],[4,5,6],[7,8,9]])\n",
    "y = np.array([[2,3,4],[5,6,7],[8,9,10]])\n",
    "print(x + y)\n",
    "print(x[:,1] + y[:,1])"
   ]
  },
  {
   "cell_type": "code",
   "execution_count": 146,
   "id": "d2934ccc",
   "metadata": {},
   "outputs": [
    {
     "name": "stdout",
     "output_type": "stream",
     "text": [
      "[ 5 11 17]\n"
     ]
    }
   ],
   "source": [
    "print(x[:,1] + y[:,1]) #[:,0] = 열들의 합 즉 2열 끼리의 합을 출력"
   ]
  },
  {
   "cell_type": "code",
   "execution_count": 145,
   "id": "93c4c93d",
   "metadata": {},
   "outputs": [
    {
     "name": "stdout",
     "output_type": "stream",
     "text": [
      "[ 3  9 15]\n"
     ]
    }
   ],
   "source": [
    "print(x[:,0] + y[:,0]) # [:,0] = 열들의 합 즉 1열 끼리의 합을 출력"
   ]
  },
  {
   "cell_type": "code",
   "execution_count": 135,
   "id": "a1d1653b",
   "metadata": {},
   "outputs": [
    {
     "name": "stdout",
     "output_type": "stream",
     "text": [
      "[[ 3  5  7]\n",
      " [ 9 11 13]\n",
      " [15 17 19]]\n"
     ]
    }
   ],
   "source": [
    "print(x + y)"
   ]
  },
  {
   "cell_type": "code",
   "execution_count": 156,
   "id": "0b2a7ef4",
   "metadata": {},
   "outputs": [
    {
     "name": "stdout",
     "output_type": "stream",
     "text": [
      "[1, 3, 5]\n",
      "[20 40 60]\n"
     ]
    }
   ],
   "source": [
    "a = np.array([10,20,30,40,50,60,70])\n",
    "i=[1,3,5] # I=[:4] 같은게 안되는 이유는 값이 지정이안됬기대문에 rang arrage 로 값을 지정을 해줘야함\n",
    "print(i)\n",
    "print(a[i]) #인덱싱을 리스트형대로해서 한번에 뽑아오는거"
   ]
  },
  {
   "cell_type": "code",
   "execution_count": 171,
   "id": "f42a8eab",
   "metadata": {},
   "outputs": [
    {
     "name": "stdout",
     "output_type": "stream",
     "text": [
      "[[ 0 10 20]\n",
      " [ 1 11 21]\n",
      " [ 2 12 22]\n",
      " [ 3 13 23]\n",
      " [ 4 14 24]\n",
      " [ 5 15 25]\n",
      " [ 6 16 26]\n",
      " [ 7 17 27]]\n",
      "[10 11 12 13 14 15 16 17]\n"
     ]
    }
   ],
   "source": [
    "list1 = [[0,10,20],[1,11,21],[2,12,22],[3,13,23],[4,14,24],[5,15,25],[6,16,26],[7,17,27]]\n",
    "np_ary=np.array(list1)\n",
    "print(np_ary)\n",
    "print(np_ary[:,1]) #[:,] ,빼놓치말고 입력해야 다음과같은 결과가 나옴"
   ]
  },
  {
   "cell_type": "code",
   "execution_count": 179,
   "id": "fce592ce",
   "metadata": {},
   "outputs": [
    {
     "name": "stdout",
     "output_type": "stream",
     "text": [
      "[20 40 60]\n",
      "b: [20 40 60]\n",
      "b: [20 10 60]\n",
      "a: [10 20 30 40 50 60 70]\n"
     ]
    },
    {
     "data": {
      "text/plain": [
       "numpy.ndarray"
      ]
     },
     "execution_count": 179,
     "metadata": {},
     "output_type": "execute_result"
    }
   ],
   "source": [
    "a=np.array([10,20,30,40,50,60,70])\n",
    "b=np.array(a[1:6:2])\n",
    "print(b)\n",
    "print('b:',b)\n",
    "b[1]=10\n",
    "print('b:',b)\n",
    "print('a:',a)\n",
    "type(b)"
   ]
  },
  {
   "cell_type": "code",
   "execution_count": 210,
   "id": "d1f92cf3",
   "metadata": {},
   "outputs": [
    {
     "name": "stdout",
     "output_type": "stream",
     "text": [
      "[[10 20 30 40 50 60 70]\n",
      " [11 21 31 41 51 61 71]\n",
      " [12 22 32 42 52 62 72]]\n",
      "[[11 21 31 41 51 61 71]]\n",
      "b: [[11 10 31 41 51 61 71]]\n",
      "a: [[10 20 30 40 50 60 70]\n",
      " [11 21 31 41 51 61 71]\n",
      " [12 22 32 42 52 62 72]]\n"
     ]
    }
   ],
   "source": [
    "a=np.array([[10,20,30,40,50,60,70],[11,21,31,41,51,61,71],[12,22,32,42,52,62,72]])\n",
    "b=np.array(a[1:2:3])\n",
    "print(a)\n",
    "print(b)\n",
    "b[0][1]=10 # 2차원에서 바꿔줄떄는 [][]형태로 맞춰서 바꿔줘라 꼭생각하기\n",
    "print('b:',b)\n",
    "print('a:',a)"
   ]
  },
  {
   "cell_type": "code",
   "execution_count": 184,
   "id": "c486d65f",
   "metadata": {},
   "outputs": [
    {
     "data": {
      "text/plain": [
       "array([1, 2, 3, 4])"
      ]
     },
     "execution_count": 184,
     "metadata": {},
     "output_type": "execute_result"
    }
   ],
   "source": [
    "arr=np.arange(1,5)\n",
    "arr"
   ]
  },
  {
   "cell_type": "code",
   "execution_count": 185,
   "id": "32824dd6",
   "metadata": {},
   "outputs": [
    {
     "data": {
      "text/plain": [
       "array([3, 4, 5, 6])"
      ]
     },
     "execution_count": 185,
     "metadata": {},
     "output_type": "execute_result"
    }
   ],
   "source": [
    "arr+2"
   ]
  },
  {
   "cell_type": "code",
   "execution_count": 186,
   "id": "bc12c915",
   "metadata": {},
   "outputs": [
    {
     "data": {
      "text/plain": [
       "array([2, 4, 6, 8])"
      ]
     },
     "execution_count": 186,
     "metadata": {},
     "output_type": "execute_result"
    }
   ],
   "source": [
    "arr*2"
   ]
  },
  {
   "cell_type": "code",
   "execution_count": 206,
   "id": "2e568baf",
   "metadata": {},
   "outputs": [
    {
     "ename": "ValueError",
     "evalue": "operands could not be broadcast together with shapes (4,) (5,) ",
     "output_type": "error",
     "traceback": [
      "\u001b[1;31m---------------------------------------------------------------------------\u001b[0m",
      "\u001b[1;31mValueError\u001b[0m                                Traceback (most recent call last)",
      "\u001b[1;32m<ipython-input-206-6871513b9417>\u001b[0m in \u001b[0;36m<module>\u001b[1;34m\u001b[0m\n\u001b[0;32m      4\u001b[0m \u001b[0marr2\u001b[0m\u001b[1;33m\u001b[0m\u001b[1;33m\u001b[0m\u001b[0m\n\u001b[0;32m      5\u001b[0m \u001b[1;33m\u001b[0m\u001b[0m\n\u001b[1;32m----> 6\u001b[1;33m \u001b[0marr\u001b[0m\u001b[1;33m*\u001b[0m\u001b[0marr2\u001b[0m\u001b[1;33m\u001b[0m\u001b[1;33m\u001b[0m\u001b[0m\n\u001b[0m",
      "\u001b[1;31mValueError\u001b[0m: operands could not be broadcast together with shapes (4,) (5,) "
     ]
    }
   ],
   "source": [
    "# 배열과 배열의 연산을 하기위해서는 배열의 구조가 같아야한다 즉 행렬값이 같아야 적용\n",
    "\n",
    "arr2=np.arange(1,6)\n",
    "arr2\n",
    "\n",
    "arr*arr2 # => 이값은 안되고"
   ]
  },
  {
   "cell_type": "code",
   "execution_count": 207,
   "id": "f8af7032",
   "metadata": {},
   "outputs": [
    {
     "data": {
      "text/plain": [
       "array([ 2,  6, 12, 20])"
      ]
     },
     "execution_count": 207,
     "metadata": {},
     "output_type": "execute_result"
    }
   ],
   "source": [
    "arr2=np.arange(2,6)\n",
    "arr2\n",
    "arr*arr2 #=> 배열이 같기떄문에 즉 행렬값이 같아야 가능"
   ]
  },
  {
   "cell_type": "code",
   "execution_count": 211,
   "id": "a6d87f52",
   "metadata": {},
   "outputs": [
    {
     "data": {
      "text/plain": [
       "[1, 2, 3, 4]"
      ]
     },
     "execution_count": 211,
     "metadata": {},
     "output_type": "execute_result"
    }
   ],
   "source": [
    "list=[1,2,3,4]\n",
    "list"
   ]
  },
  {
   "cell_type": "code",
   "execution_count": 214,
   "id": "5f2542ec",
   "metadata": {},
   "outputs": [
    {
     "name": "stdout",
     "output_type": "stream",
     "text": [
      "[1, 2, 3, 4, 1, 2, 3, 4]\n"
     ]
    }
   ],
   "source": [
    "list=list*2 # 책방법말고 이방법으로\n",
    "print(list)"
   ]
  },
  {
   "cell_type": "code",
   "execution_count": 215,
   "id": "d47282bc",
   "metadata": {},
   "outputs": [
    {
     "data": {
      "text/plain": [
       "array([ 1,  4,  9, 16], dtype=int32)"
      ]
     },
     "execution_count": 215,
     "metadata": {},
     "output_type": "execute_result"
    }
   ],
   "source": [
    "np.square(arr) #제곱"
   ]
  },
  {
   "cell_type": "code",
   "execution_count": 216,
   "id": "9fa6cffd",
   "metadata": {},
   "outputs": [
    {
     "data": {
      "text/plain": [
       "array([1.        , 1.41421356, 1.73205081, 2.        ])"
      ]
     },
     "execution_count": 216,
     "metadata": {},
     "output_type": "execute_result"
    }
   ],
   "source": [
    "np.sqrt(arr) #제곱근(루트)"
   ]
  },
  {
   "cell_type": "code",
   "execution_count": 217,
   "id": "47c2cb2c",
   "metadata": {},
   "outputs": [
    {
     "data": {
      "text/plain": [
       "array([ 2.71828183,  7.3890561 , 20.08553692, 54.59815003])"
      ]
     },
     "execution_count": 217,
     "metadata": {},
     "output_type": "execute_result"
    }
   ],
   "source": [
    "np.exp(arr) #지수승"
   ]
  },
  {
   "cell_type": "code",
   "execution_count": 218,
   "id": "a66dbc7d",
   "metadata": {},
   "outputs": [
    {
     "data": {
      "text/plain": [
       "array([0.        , 0.69314718, 1.09861229, 1.38629436])"
      ]
     },
     "execution_count": 218,
     "metadata": {},
     "output_type": "execute_result"
    }
   ],
   "source": [
    "np.log(arr) #log"
   ]
  },
  {
   "cell_type": "code",
   "execution_count": 224,
   "id": "b359eb38",
   "metadata": {},
   "outputs": [
    {
     "name": "stdout",
     "output_type": "stream",
     "text": [
      "[1 2 3 4 5 6]\n"
     ]
    },
    {
     "data": {
      "text/plain": [
       "array([ 1,  4,  9, 16, 25, 36], dtype=int32)"
      ]
     },
     "execution_count": 224,
     "metadata": {},
     "output_type": "execute_result"
    }
   ],
   "source": [
    "arr= np.arange(1,7)\n",
    "print(arr)\n",
    "np.square(arr)"
   ]
  },
  {
   "cell_type": "code",
   "execution_count": 225,
   "id": "48652c10",
   "metadata": {},
   "outputs": [
    {
     "ename": "ValueError",
     "evalue": "operands could not be broadcast together with shapes (6,) (3,) ",
     "output_type": "error",
     "traceback": [
      "\u001b[1;31m---------------------------------------------------------------------------\u001b[0m",
      "\u001b[1;31mValueError\u001b[0m                                Traceback (most recent call last)",
      "\u001b[1;32m<ipython-input-225-b90bacecc8ac>\u001b[0m in \u001b[0;36m<module>\u001b[1;34m\u001b[0m\n\u001b[1;32m----> 1\u001b[1;33m \u001b[0mnp\u001b[0m\u001b[1;33m.\u001b[0m\u001b[0madd\u001b[0m\u001b[1;33m(\u001b[0m\u001b[0marr\u001b[0m\u001b[1;33m,\u001b[0m\u001b[0marr1\u001b[0m\u001b[1;33m)\u001b[0m\u001b[1;33m\u001b[0m\u001b[1;33m\u001b[0m\u001b[0m\n\u001b[0m",
      "\u001b[1;31mValueError\u001b[0m: operands could not be broadcast together with shapes (6,) (3,) "
     ]
    }
   ],
   "source": [
    "np.add(arr,arr1) #더하기"
   ]
  },
  {
   "cell_type": "code",
   "execution_count": 226,
   "id": "e776c0fb",
   "metadata": {},
   "outputs": [
    {
     "data": {
      "text/plain": [
       "21"
      ]
     },
     "execution_count": 226,
     "metadata": {},
     "output_type": "execute_result"
    }
   ],
   "source": [
    "np.sum(arr) #합계"
   ]
  },
  {
   "cell_type": "code",
   "execution_count": 227,
   "id": "92c5816f",
   "metadata": {},
   "outputs": [
    {
     "data": {
      "text/plain": [
       "array([ 1,  3,  6, 10, 15, 21], dtype=int32)"
      ]
     },
     "execution_count": 227,
     "metadata": {},
     "output_type": "execute_result"
    }
   ],
   "source": [
    "np.cumsum(arr) #누적합"
   ]
  },
  {
   "cell_type": "code",
   "execution_count": 228,
   "id": "3958b738",
   "metadata": {},
   "outputs": [
    {
     "data": {
      "text/plain": [
       "3.5"
      ]
     },
     "execution_count": 228,
     "metadata": {},
     "output_type": "execute_result"
    }
   ],
   "source": [
    "np.mean(arr) # 평균"
   ]
  },
  {
   "cell_type": "code",
   "execution_count": 229,
   "id": "f27dd398",
   "metadata": {},
   "outputs": [
    {
     "data": {
      "text/plain": [
       "2.9166666666666665"
      ]
     },
     "execution_count": 229,
     "metadata": {},
     "output_type": "execute_result"
    }
   ],
   "source": [
    "np.var(arr) #편차"
   ]
  },
  {
   "cell_type": "code",
   "execution_count": 230,
   "id": "f7b7d118",
   "metadata": {},
   "outputs": [
    {
     "data": {
      "text/plain": [
       "1.707825127659933"
      ]
     },
     "execution_count": 230,
     "metadata": {},
     "output_type": "execute_result"
    }
   ],
   "source": [
    "np.std(arr) #표준편차"
   ]
  },
  {
   "cell_type": "code",
   "execution_count": 231,
   "id": "d252457e",
   "metadata": {},
   "outputs": [
    {
     "data": {
      "text/plain": [
       "1"
      ]
     },
     "execution_count": 231,
     "metadata": {},
     "output_type": "execute_result"
    }
   ],
   "source": [
    "np.min(arr) #최소값"
   ]
  },
  {
   "cell_type": "code",
   "execution_count": 232,
   "id": "b378ddbb",
   "metadata": {},
   "outputs": [
    {
     "data": {
      "text/plain": [
       "6"
      ]
     },
     "execution_count": 232,
     "metadata": {},
     "output_type": "execute_result"
    }
   ],
   "source": [
    "np.max(arr) #최대값"
   ]
  },
  {
   "cell_type": "code",
   "execution_count": 233,
   "id": "1bdfeb00",
   "metadata": {},
   "outputs": [
    {
     "data": {
      "text/plain": [
       "0"
      ]
     },
     "execution_count": 233,
     "metadata": {},
     "output_type": "execute_result"
    }
   ],
   "source": [
    "np.argmin(arr) #최소값의 인덱스"
   ]
  },
  {
   "cell_type": "code",
   "execution_count": 234,
   "id": "1b17dbaf",
   "metadata": {},
   "outputs": [
    {
     "data": {
      "text/plain": [
       "5"
      ]
     },
     "execution_count": 234,
     "metadata": {},
     "output_type": "execute_result"
    }
   ],
   "source": [
    "np.argmax(arr) #최대값의 인덱스"
   ]
  },
  {
   "cell_type": "code",
   "execution_count": 235,
   "id": "c041a584",
   "metadata": {},
   "outputs": [
    {
     "name": "stdout",
     "output_type": "stream",
     "text": [
      "[ 4 10 18]\n"
     ]
    }
   ],
   "source": [
    "x= np.array([1,2,3])\n",
    "y= np.array([4,5,6])\n",
    "z=x*y\n",
    "print(z)"
   ]
  },
  {
   "cell_type": "code",
   "execution_count": 236,
   "id": "1d22e2be",
   "metadata": {},
   "outputs": [
    {
     "name": "stdout",
     "output_type": "stream",
     "text": [
      "[ 7 16 27 40]\n"
     ]
    }
   ],
   "source": [
    "x= np.array([1,2,3,4])\n",
    "y= np.array([7,8,9,10])\n",
    "z=x*y\n",
    "print(z)"
   ]
  },
  {
   "cell_type": "code",
   "execution_count": 237,
   "id": "7af34610",
   "metadata": {},
   "outputs": [
    {
     "data": {
      "text/plain": [
       "array([[0, 1, 2, 3, 4],\n",
       "       [5, 6, 7, 8, 9]])"
      ]
     },
     "execution_count": 237,
     "metadata": {},
     "output_type": "execute_result"
    }
   ],
   "source": [
    "#Transpose() 변형\n",
    "\n",
    "arr = np.arange(10).reshape(2,5)\n",
    "arr"
   ]
  },
  {
   "cell_type": "code",
   "execution_count": 238,
   "id": "f71dadca",
   "metadata": {},
   "outputs": [
    {
     "data": {
      "text/plain": [
       "array([[0, 5],\n",
       "       [1, 6],\n",
       "       [2, 7],\n",
       "       [3, 8],\n",
       "       [4, 9]])"
      ]
     },
     "execution_count": 238,
     "metadata": {},
     "output_type": "execute_result"
    }
   ],
   "source": [
    "#arr.transpose() \n",
    "\n",
    "arr.T # 행과 열 교환"
   ]
  },
  {
   "cell_type": "code",
   "execution_count": 239,
   "id": "2a41b5d0",
   "metadata": {},
   "outputs": [
    {
     "data": {
      "text/plain": [
       "array([[[ 0,  1,  2],\n",
       "        [ 3,  4,  5],\n",
       "        [ 6,  7,  8]],\n",
       "\n",
       "       [[ 9, 10, 11],\n",
       "        [12, 13, 14],\n",
       "        [15, 16, 17]],\n",
       "\n",
       "       [[18, 19, 20],\n",
       "        [21, 22, 23],\n",
       "        [24, 25, 26]]])"
      ]
     },
     "execution_count": 239,
     "metadata": {},
     "output_type": "execute_result"
    }
   ],
   "source": [
    "arr3d = np.arange(27).reshape(3,3,3)\n",
    "arr3d"
   ]
  },
  {
   "cell_type": "code",
   "execution_count": 240,
   "id": "97f00686",
   "metadata": {},
   "outputs": [
    {
     "data": {
      "text/plain": [
       "array([[[ 0,  9, 18],\n",
       "        [ 3, 12, 21],\n",
       "        [ 6, 15, 24]],\n",
       "\n",
       "       [[ 1, 10, 19],\n",
       "        [ 4, 13, 22],\n",
       "        [ 7, 16, 25]],\n",
       "\n",
       "       [[ 2, 11, 20],\n",
       "        [ 5, 14, 23],\n",
       "        [ 8, 17, 26]]])"
      ]
     },
     "execution_count": 240,
     "metadata": {},
     "output_type": "execute_result"
    }
   ],
   "source": [
    "arr3d.transpose() #transpose(2,1,0)와 동일 역순으"
   ]
  },
  {
   "cell_type": "code",
   "execution_count": 242,
   "id": "affe59cb",
   "metadata": {},
   "outputs": [
    {
     "data": {
      "text/plain": [
       "array([[[ 0,  9, 18],\n",
       "        [ 3, 12, 21],\n",
       "        [ 6, 15, 24]],\n",
       "\n",
       "       [[ 1, 10, 19],\n",
       "        [ 4, 13, 22],\n",
       "        [ 7, 16, 25]],\n",
       "\n",
       "       [[ 2, 11, 20],\n",
       "        [ 5, 14, 23],\n",
       "        [ 8, 17, 26]]])"
      ]
     },
     "execution_count": 242,
     "metadata": {},
     "output_type": "execute_result"
    }
   ],
   "source": [
    "arr3d.T #  = arr3d.traonspose() 같음"
   ]
  },
  {
   "cell_type": "code",
   "execution_count": 243,
   "id": "515b551a",
   "metadata": {},
   "outputs": [
    {
     "name": "stdout",
     "output_type": "stream",
     "text": [
      "[[[ 0  1  2]\n",
      "  [ 3  4  5]\n",
      "  [ 6  7  8]]\n",
      "\n",
      " [[ 9 10 11]\n",
      "  [12 13 14]\n",
      "  [15 16 17]]\n",
      "\n",
      " [[18 19 20]\n",
      "  [21 22 23]\n",
      "  [24 25 26]]]\n"
     ]
    },
    {
     "data": {
      "text/plain": [
       "array([[[ 0,  1,  2],\n",
       "        [ 9, 10, 11],\n",
       "        [18, 19, 20]],\n",
       "\n",
       "       [[ 3,  4,  5],\n",
       "        [12, 13, 14],\n",
       "        [21, 22, 23]],\n",
       "\n",
       "       [[ 6,  7,  8],\n",
       "        [15, 16, 17],\n",
       "        [24, 25, 26]]])"
      ]
     },
     "execution_count": 243,
     "metadata": {},
     "output_type": "execute_result"
    }
   ],
   "source": [
    "print(arr3d)\n",
    "#x=축의 표현이 0 y축의 표현이 1 z축의 표현이 2\n",
    "arr3d.transpose(1,0,2)  #따라서 y축이 x축으로오고 x축이 y축으로가고 z축이 고정"
   ]
  },
  {
   "cell_type": "code",
   "execution_count": 244,
   "id": "5bf633db",
   "metadata": {},
   "outputs": [
    {
     "data": {
      "text/plain": [
       "array([[0, 1, 2, 3, 4],\n",
       "       [5, 6, 7, 8, 9]])"
      ]
     },
     "execution_count": 244,
     "metadata": {},
     "output_type": "execute_result"
    }
   ],
   "source": [
    "#저장\n",
    "\n",
    "arr=np.arange(10).reshape(2,5)\n",
    "arr"
   ]
  },
  {
   "cell_type": "code",
   "execution_count": 249,
   "id": "27ff561e",
   "metadata": {},
   "outputs": [],
   "source": [
    "np.save('array',arr) # 저장하는방법"
   ]
  },
  {
   "cell_type": "code",
   "execution_count": 250,
   "id": "20abeef3",
   "metadata": {},
   "outputs": [
    {
     "data": {
      "text/plain": [
       "array([[0, 1, 2, 3, 4],\n",
       "       [5, 6, 7, 8, 9]])"
      ]
     },
     "execution_count": 250,
     "metadata": {},
     "output_type": "execute_result"
    }
   ],
   "source": [
    "load_arr=np.load('array.npy') #저장한걸 불러오는 방법\n",
    "load_arr"
   ]
  },
  {
   "cell_type": "code",
   "execution_count": null,
   "id": "23822ca5",
   "metadata": {},
   "outputs": [],
   "source": [
    "# np.arrange()"
   ]
  }
 ],
 "metadata": {
  "kernelspec": {
   "display_name": "Python 3",
   "language": "python",
   "name": "python3"
  },
  "language_info": {
   "codemirror_mode": {
    "name": "ipython",
    "version": 3
   },
   "file_extension": ".py",
   "mimetype": "text/x-python",
   "name": "python",
   "nbconvert_exporter": "python",
   "pygments_lexer": "ipython3",
   "version": "3.8.8"
  }
 },
 "nbformat": 4,
 "nbformat_minor": 5
}
