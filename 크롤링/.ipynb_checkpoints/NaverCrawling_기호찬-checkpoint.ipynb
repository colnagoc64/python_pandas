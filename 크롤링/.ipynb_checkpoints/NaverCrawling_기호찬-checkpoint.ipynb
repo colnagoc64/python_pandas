{
 "cells": [
  {
   "cell_type": "code",
   "execution_count": 1,
   "id": "1da3d26b",
   "metadata": {},
   "outputs": [],
   "source": [
    "#셋팅하기-필요한 모듈(라이브러리 모두 호출하기)\n",
    "import os\n",
    "import sys\n",
    "import urllib.request\n",
    "import datetime\n",
    "import time\n",
    "import json"
   ]
  },
  {
   "cell_type": "code",
   "execution_count": 2,
   "id": "08c1f365",
   "metadata": {},
   "outputs": [],
   "source": [
    "#네이버 개발자 생성한 개인 api 호출아이디 패스워드\n",
    "client_id = \"fWlYLNOb8uVOJ8uozeyL\"\n",
    "client_secret = \"HWniNqpwlz\""
   ]
  },
  {
   "cell_type": "code",
   "execution_count": 3,
   "id": "3cbc171f",
   "metadata": {},
   "outputs": [],
   "source": [
    "#getRequsetUrl 함수를 정의 하여서 생성\n",
    "def getRequestUrl(url):\n",
    "    req = urllib.request.Request(url)\n",
    "    req.add_header(\"X-Naver-Client-Id\",client_id)\n",
    "    req.add_header(\"X-Naver-Client-Secret\",client_secret)\n",
    "    \n",
    "    try:\n",
    "        response=urllib.request.urlopen(req)\n",
    "        if response.getcode()==200:\n",
    "            print(\"[%s] Url Request Success\" % datetime.datetime.now())\n",
    "            return response.read().decode('utf-8')\n",
    "    except Exception as e:\n",
    "        print(e)\n",
    "        print(\"[%s] Error for Url : %s\" % (datetime.datetime.now(),url))\n",
    "        return None\n"
   ]
  },
  {
   "cell_type": "code",
   "execution_count": 4,
   "id": "0214933b",
   "metadata": {},
   "outputs": [],
   "source": [
    "def getNaverSearch(node,scrText,start,display):\n",
    "    base=\"https://openapi.naver.com/v1/search\"\n",
    "    node=\"/%s.json\" %node\n",
    "    parameters=\"?query=%s&start=%s&display=%s\" %(urllib.parse.quote(scrText),start,display)\n",
    "    \n",
    "    url=base + node + parameters\n",
    "    \n",
    "    responseDecode= getRequestUrl(url)\n",
    "    \n",
    "    if(responseDecode == None):\n",
    "        return None\n",
    "    else:\n",
    "        return json.loads(responseDecode)"
   ]
  },
  {
   "cell_type": "code",
   "execution_count": 5,
   "id": "4382a367",
   "metadata": {},
   "outputs": [],
   "source": [
    "def getPostData(post, jsonResult, cnt):\n",
    "    title=post['title']\n",
    "    description=post['description']\n",
    "    org_link = post['originallink']\n",
    "    link = post['link']\n",
    "    \n",
    "    pDate =datetime.datetime.strptime(post['pubDate'], '%a, %d %b %Y %H:%M:%S +0900')\n",
    "    pDate =pDate.strftime('%Y-%m-%d %H:%M:%S')\n",
    "    \n",
    "    jsonResult.append({'cnt':cnt ,\"title\":title ,'description':description,\n",
    "                      'org_link':org_link,'link':link,'pDate':pDate})"
   ]
  },
  {
   "cell_type": "code",
   "execution_count": 6,
   "id": "4ce8a9ba",
   "metadata": {},
   "outputs": [],
   "source": [
    "def main():\n",
    "    node='news'\n",
    "    srcText=input('검색어를 입력하세요:')\n",
    "    cnt=0\n",
    "    jsonResult=[]\n",
    "    \n",
    "    jsonResponse = getNaverSearch(node,srcText,1,100)\n",
    "    total = jsonResponse['total']\n",
    "    \n",
    "    while((jsonResponse !=None) and (jsonResponse['display'] !=0)):\n",
    "        for post in jsonResponse['items']:\n",
    "            cnt +=1\n",
    "            getPostData(post,jsonResult,cnt)\n",
    "            \n",
    "        start = jsonResponse['start'] + jsonResponse['display']\n",
    "        jsonResponse =getNaverSearch(node,srcText,start,100)\n",
    "        \n",
    "    print('전체 검색 :%d 건' %total)\n",
    "    \n",
    "    with open('%s_naver_%s.json' %(srcText,node),'w',encoding='utf-8') as outfile:\n",
    "        jsonFIle=json.dumps(jsonResult,indent=4, sort_keys=True,\n",
    "                           ensure_ascii=False)\n",
    "        outfile.write(jsonFIle)\n",
    "        \n",
    "    print(\"가져온 데이터 : %d 건\"%(cnt))\n",
    "    print('%s_naver_%s.json SAVED' %(srcText,node))"
   ]
  },
  {
   "cell_type": "code",
   "execution_count": 7,
   "id": "019f292e",
   "metadata": {},
   "outputs": [
    {
     "name": "stdout",
     "output_type": "stream",
     "text": [
      "검색어를 입력하세요:대선\n",
      "[2021-11-11 15:27:10.358342] Url Request Success\n",
      "[2021-11-11 15:27:10.603732] Url Request Success\n",
      "[2021-11-11 15:27:10.817044] Url Request Success\n",
      "[2021-11-11 15:27:11.028932] Url Request Success\n",
      "[2021-11-11 15:27:11.245146] Url Request Success\n",
      "[2021-11-11 15:27:11.471938] Url Request Success\n",
      "[2021-11-11 15:27:11.700959] Url Request Success\n",
      "[2021-11-11 15:27:11.920141] Url Request Success\n",
      "[2021-11-11 15:27:12.142580] Url Request Success\n",
      "[2021-11-11 15:27:12.391665] Url Request Success\n",
      "HTTP Error 400: Bad Request\n",
      "[2021-11-11 15:27:12.475579] Error for Url : https://openapi.naver.com/v1/search/news.json?query=%EB%8C%80%EC%84%A0&start=1001&display=100\n",
      "전체 검색 :2968138 건\n",
      "가져온 데이터 : 1000 건\n",
      "대선_naver_news.json SAVED\n"
     ]
    }
   ],
   "source": [
    "main()"
   ]
  },
  {
   "cell_type": "code",
   "execution_count": null,
   "id": "94ab3931",
   "metadata": {},
   "outputs": [],
   "source": []
  }
 ],
 "metadata": {
  "kernelspec": {
   "display_name": "Python 3 (ipykernel)",
   "language": "python",
   "name": "python3"
  },
  "language_info": {
   "codemirror_mode": {
    "name": "ipython",
    "version": 3
   },
   "file_extension": ".py",
   "mimetype": "text/x-python",
   "name": "python",
   "nbconvert_exporter": "python",
   "pygments_lexer": "ipython3",
   "version": "3.9.7"
  },
  "toc": {
   "base_numbering": 1,
   "nav_menu": {},
   "number_sections": true,
   "sideBar": true,
   "skip_h1_title": false,
   "title_cell": "Table of Contents",
   "title_sidebar": "Contents",
   "toc_cell": false,
   "toc_position": {},
   "toc_section_display": true,
   "toc_window_display": false
  }
 },
 "nbformat": 4,
 "nbformat_minor": 5
}
