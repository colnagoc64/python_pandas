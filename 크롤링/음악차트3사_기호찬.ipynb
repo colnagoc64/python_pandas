{
 "cells": [
  {
   "cell_type": "code",
   "execution_count": 2,
   "id": "ca24dbea",
   "metadata": {},
   "outputs": [],
   "source": [
    "from selenium import webdriver\n",
    "from bs4 import BeautifulSoup\n",
    "import pandas as pd\n",
    "from time import sleep"
   ]
  },
  {
   "cell_type": "code",
   "execution_count": 3,
   "id": "955323d5",
   "metadata": {},
   "outputs": [],
   "source": [
    "driver = webdriver.Chrome('chromedriver')\n",
    "sleep(1)\n",
    "driver.get('https://www.melon.com/chart/index.htm')"
   ]
  },
  {
   "cell_type": "code",
   "execution_count": 4,
   "id": "1ddf59f2",
   "metadata": {},
   "outputs": [],
   "source": [
    "soup=BeautifulSoup(driver.page_source)\n"
   ]
  },
  {
   "cell_type": "code",
   "execution_count": 5,
   "id": "21b6e520",
   "metadata": {},
   "outputs": [],
   "source": [
    "title = soup.select('div.rank01 > span > a')"
   ]
  },
  {
   "cell_type": "code",
   "execution_count": 6,
   "id": "45a5b6e6",
   "metadata": {},
   "outputs": [],
   "source": [
    "#태그의 수만큼 반복한다\n",
    "for li_tag in title:\n",
    "    #노래 제목을 가져온다.\n",
    "    song_title=li_tag.text.strip()"
   ]
  },
  {
   "cell_type": "code",
   "execution_count": 7,
   "id": "dd4a42be",
   "metadata": {},
   "outputs": [],
   "source": [
    "#lst50 > td:nth-child(6) > div > div > div.ellipsis.rank02 > a\n",
    "singer = soup.select('div.rank02')"
   ]
  },
  {
   "cell_type": "code",
   "execution_count": 8,
   "id": "16e8825e",
   "metadata": {},
   "outputs": [
    {
     "data": {
      "text/plain": [
       "(100, 100)"
      ]
     },
     "execution_count": 8,
     "metadata": {},
     "output_type": "execute_result"
    }
   ],
   "source": [
    "len(singer),len(title)"
   ]
  },
  {
   "cell_type": "code",
   "execution_count": 13,
   "id": "a3757e9c",
   "metadata": {},
   "outputs": [],
   "source": [
    "for li_tag in singer:\n",
    "    song_singer = li_tag.text.strip()"
   ]
  },
  {
   "cell_type": "code",
   "execution_count": 30,
   "id": "c202eeb0",
   "metadata": {},
   "outputs": [],
   "source": [
    "dm = []\n",
    "\n",
    "for n in range(100):\n",
    "    song_title = title[n].text.strip()\n",
    "    song_singer = singer[n].text.strip()\n",
    "#     print(song_title)\n",
    "#     print(song_singer)\n",
    "    half =int(len(song_singer)/2) # 2로 나눈이유 가수이름이 2번나오는걸 방지하기 위해\n",
    "    song_singer =song_singer[:half]\n",
    "    \n",
    "    dm.append([song_title, song_singer]) #n+1 index 값이 0 부터 시작이기떄문에\n",
    "#     dm[n+1].append((song_title))\n",
    "#     dm[n+1].append(song_singer"
   ]
  },
  {
   "cell_type": "code",
   "execution_count": 14,
   "id": "9844dd81",
   "metadata": {},
   "outputs": [
    {
     "data": {
      "text/plain": [
       "{1: ['strawberry moon', '아이유'],\n",
       " 2: ['Savage', 'aespa'],\n",
       " 3: ['STAY', 'The Kid LAROI, Justin Bieber'],\n",
       " 4: ['신호등', '이무진'],\n",
       " 5: ['사랑은 늘 도망가', '임영웅'],\n",
       " 6: ['My Universe', 'Coldplay, 방탄소년단'],\n",
       " 7: ['Next Level', 'aespa'],\n",
       " 8: ['다정히 내 이름을 부르면', '경서예지, 전건호'],\n",
       " 9: ['OHAYO MY NIGHT', '디핵 (D-Hack), PATEKO (파테코)'],\n",
       " 10: ['낙하 (with 아이유)', 'AKMU (악뮤)'],\n",
       " 11: ['Rock with you', '세븐틴'],\n",
       " 12: ['Permission to Dance', '방탄소년단'],\n",
       " 13: ['바라만 본다', 'MSG워너비(M.O.M)'],\n",
       " 14: ['Butter', '방탄소년단'],\n",
       " 15: ['너를 생각해', '주시크 (Joosiq)'],\n",
       " 16: ['이제 나만 믿어요', '임영웅'],\n",
       " 17: ['Weekend', '태연 (TAEYEON)'],\n",
       " 18: ['Bad Habits', 'Ed Sheeran'],\n",
       " 19: ['Peaches (Feat. Daniel Caesar & Giveon)', 'Justin Bieber'],\n",
       " 20: ['Dynamite', '방탄소년단'],\n",
       " 21: ['헤픈 우연', '헤이즈 (Heize)'],\n",
       " 22: ['그대라는 사치', '임영웅'],\n",
       " 23: ['고백', '멜로망스'],\n",
       " 24: ['별빛 같은 나의 사랑아', '임영웅'],\n",
       " 25: ['다시 사랑한다면 (김필 Ver.)', '임영웅'],\n",
       " 26: ['Favorite (Vampire)', 'NCT 127'],\n",
       " 27: ['좋아좋아', '조정석'],\n",
       " 28: ['여전히 아름다운지', '세븐틴'],\n",
       " 29: ['라일락', '아이유'],\n",
       " 30: ['시간을 거슬러 (낮에 뜨는 달 X 케이윌)', '케이윌'],\n",
       " 31: ['HERO', '임영웅'],\n",
       " 32: ['Celebrity', '아이유'],\n",
       " 33: ['잊었니', '임영웅'],\n",
       " 34: ['끝사랑', '임영웅'],\n",
       " 35: ['DUMB DUMB', '전소미'],\n",
       " 36: ['Queendom', 'Red Velvet (레드벨벳)'],\n",
       " 37: ['나비효과', '볼빨간사춘기'],\n",
       " 38: ['Bk Love', '임영웅'],\n",
       " 39: ['찰나가 영원이 될 때 (The Eternal Moment)', '마크툽 (MAKTUB)'],\n",
       " 40: [\"롤린 (Rollin')\", '브레이브걸스'],\n",
       " 41: ['소용돌이', '세븐틴'],\n",
       " 42: ['Dun Dun Dance', '오마이걸 (OH MY GIRL)'],\n",
       " 43: ['사이렌 Remix (Feat. UNEDUCATED KID, Paul Blanco)', '호미들'],\n",
       " 44: ['가을 타나 봐', '이무진'],\n",
       " 45: ['비와 당신', '이무진'],\n",
       " 46: ['Crush', '세븐틴'],\n",
       " 47: ['내 손을 잡아', '아이유'],\n",
       " 48: ['비가 오는 날엔 (2021)', '헤이즈 (Heize)'],\n",
       " 49: ['Off My Face', 'Justin Bieber'],\n",
       " 50: ['매일 그대라서 행복하다', '세븐틴'],\n",
       " 51: ['Savage Love (Laxed - Siren Beat) (BTS Remix)',\n",
       "  'Jawsh 685, Jason Derulo, 방탄소년단'],\n",
       " 52: ['ASAP', 'STAYC(스테이씨)'],\n",
       " 53: ['밝게 빛나는 별이 되어 비춰줄게', '송이한'],\n",
       " 54: ['Cold Blooded', '제시 (Jessi)'],\n",
       " 55: ['어떻게 이별까지 사랑하겠어, 널 사랑하는 거지', 'AKMU (악뮤)'],\n",
       " 56: ['색안경 (STEREOTYPE)', 'STAYC(스테이씨)'],\n",
       " 57: ['추억은 만남보다 이별에 남아', '정동하'],\n",
       " 58: ['그리워하는 것까지', '세븐틴'],\n",
       " 59: ['작은 것들을 위한 시 (Boy With Luv) (Feat. Halsey)', '방탄소년단'],\n",
       " 60: ['Blueming', '아이유'],\n",
       " 61: ['하루만 더', '빅마마'],\n",
       " 62: ['PANG!', '세븐틴'],\n",
       " 63: ['모든 날, 모든 순간 (Every day, Every Moment)', '폴킴'],\n",
       " 64: ['나의 첫사랑', '다비치'],\n",
       " 65: ['밤하늘의 별을(2020)', '경서'],\n",
       " 66: ['LOCO', 'ITZY (있지)'],\n",
       " 67: ['너는 내 세상이었어', '볼빨간사춘기'],\n",
       " 68: ['2 MINUS 1 (Digital Only)', '세븐틴'],\n",
       " 69: ['봄날', '방탄소년단'],\n",
       " 70: ['Lovesick Girls', 'BLACKPINK'],\n",
       " 71: ['에잇(Prod.&Feat. SUGA of BTS)', '아이유'],\n",
       " 72: ['계단말고 엘리베이터', '임영웅'],\n",
       " 73: ['멜로디', 'ASH ISLAND'],\n",
       " 74: ['오늘도 빛나는 너에게 (To You My Light) (Feat.이라온)', '마크툽 (MAKTUB)'],\n",
       " 75: ['취기를 빌려 (취향저격 그녀 X 산들)', '산들'],\n",
       " 76: ['가을 우체국 앞에서', '김대명'],\n",
       " 77: ['그날에 나는 맘이 편했을까', '이예준'],\n",
       " 78: ['Life Goes On', '방탄소년단'],\n",
       " 79: ['잠이 오질 않네요', '장범준'],\n",
       " 80: ['Hey Mama (Feat. Nicki Minaj, Bebe Rexha & Afrojack)', 'David Guetta'],\n",
       " 81: ['아로하', '조정석'],\n",
       " 82: ['흔들리는 꽃들 속에서 네 샴푸향이 느껴진거야', '장범준'],\n",
       " 83: ['오래된 노래', '스탠딩 에그'],\n",
       " 84: ['Sticker', 'NCT 127'],\n",
       " 85: ['Timeless', 'SG 워너비'],\n",
       " 86: ['어푸 (Ah puh)', '아이유'],\n",
       " 87: ['METEOR', '창모 (CHANGMO)'],\n",
       " 88: ['나 그댈위해 시 한편을 쓰겠어', '케이시 (Kassy)'],\n",
       " 89: ['2002', 'Anne-Marie'],\n",
       " 90: ['운전만해 (We Ride)', '브레이브걸스'],\n",
       " 91: ['Ready to love', '세븐틴'],\n",
       " 92: ['안녕 (Hello)', '조이 (JOY)'],\n",
       " 93: ['치맛바람 (Chi Mat Ba Ram)', '브레이브걸스'],\n",
       " 94: ['사랑은 언제나 목마르다 (N번째 연애 X 이해리 (다비치))', '이해리 (다비치)'],\n",
       " 95: ['그리워 그리워', '이예준'],\n",
       " 96: ['Alcohol-Free', 'TWICE (트와이스)'],\n",
       " 97: ['역겹겠지만 (Remember me)', 'B.I'],\n",
       " 98: ['사실 나는 (Feat.전건호)', '경서예지'],\n",
       " 99: ['고백', '신용재 (2F)'],\n",
       " 100: ['너의 번호를 누르고 (Prod. 영화처럼)', '#안녕']}"
      ]
     },
     "execution_count": 14,
     "metadata": {},
     "output_type": "execute_result"
    }
   ],
   "source": [
    "dm"
   ]
  },
  {
   "cell_type": "code",
   "execution_count": 12,
   "id": "998b3610",
   "metadata": {},
   "outputs": [],
   "source": [
    "with open('melon.csv', 'w') as f:\n",
    "    for i in range(100):\n",
    "        f.write('{0}, {1}, {2}\\n'.format(i+1, dm[i+1][0], dm[i+1][1]))"
   ]
  },
  {
   "cell_type": "code",
   "execution_count": 13,
   "id": "01eb1045",
   "metadata": {},
   "outputs": [],
   "source": [
    "#지니"
   ]
  },
  {
   "cell_type": "code",
   "execution_count": 31,
   "id": "e02a6056",
   "metadata": {},
   "outputs": [],
   "source": [
    "driver = webdriver.Chrome('chromedriver')\n",
    "sleep(1)\n",
    "driver.get('https://www.genie.co.kr/chart/top200')"
   ]
  },
  {
   "cell_type": "code",
   "execution_count": 32,
   "id": "4ba8b540",
   "metadata": {},
   "outputs": [],
   "source": [
    "soup=BeautifulSoup(driver.page_source)"
   ]
  },
  {
   "cell_type": "code",
   "execution_count": 33,
   "id": "644c5b1c",
   "metadata": {},
   "outputs": [],
   "source": [
    "title2=soup.select('td.info>a.title')\n"
   ]
  },
  {
   "cell_type": "code",
   "execution_count": 34,
   "id": "91d1b55b",
   "metadata": {
    "scrolled": true
   },
   "outputs": [],
   "source": [
    "for li_tag in title2:\n",
    "    song_title2=li_tag.text.strip()\n"
   ]
  },
  {
   "cell_type": "code",
   "execution_count": 35,
   "id": "0f202eca",
   "metadata": {},
   "outputs": [],
   "source": [
    "singer2 = soup.select('td.info>a.artist')\n"
   ]
  },
  {
   "cell_type": "code",
   "execution_count": 36,
   "id": "074af58d",
   "metadata": {},
   "outputs": [],
   "source": [
    "for li_tag in singer2:\n",
    "    song_singer2 = li_tag.text.strip()"
   ]
  },
  {
   "cell_type": "code",
   "execution_count": 37,
   "id": "dc7886cd",
   "metadata": {},
   "outputs": [
    {
     "data": {
      "text/plain": [
       "(50, 50)"
      ]
     },
     "execution_count": 37,
     "metadata": {},
     "output_type": "execute_result"
    }
   ],
   "source": [
    "len(singer2),len(title2)"
   ]
  },
  {
   "cell_type": "code",
   "execution_count": 38,
   "id": "6c8faf61",
   "metadata": {},
   "outputs": [],
   "source": [
    "dj = []\n",
    "for n in range(50):\n",
    "    song_title2 = title2[n].text.strip()\n",
    "    song_singer2 = singer2[n].text.strip()\n",
    "    dj.append([song_title2 ,song_singer2])\n",
    "#     dj[n+1]=[] #n+1 index 값이 0 부터 시작이기떄문에\n",
    "#     dj[n+1].append(song_title2)\n",
    "#     dj[n+1].append(song_singer2)"
   ]
  },
  {
   "cell_type": "code",
   "execution_count": 39,
   "id": "2a9c8663",
   "metadata": {},
   "outputs": [
    {
     "data": {
      "text/plain": [
       "[['strawberry moon', '아이유 (IU)'],\n",
       " ['Savage', 'aespa'],\n",
       " ['나비효과', '볼빨간사춘기'],\n",
       " ['Stay', 'The Kid LAROI & Justin Bieber'],\n",
       " ['신호등', '이무진'],\n",
       " ['다정히 내 이름을 부르면', '경서예지 & 전건호'],\n",
       " ['My Universe', 'Coldplay & 방탄소년단'],\n",
       " ['OHAYO MY NIGHT', '디핵 (D-Hack) & PATEKO'],\n",
       " ['Next Level', 'aespa'],\n",
       " ['Hey Mama (Feat. Nicki Minaj & Bebe Rexha & Afrojack)', 'David Guetta'],\n",
       " ['사랑은 늘 도망가', '임영웅'],\n",
       " ['낙하 (With 아이유)', 'AKMU (악뮤)'],\n",
       " ['Bad Habits', 'Ed Sheeran'],\n",
       " ['Rock with you', '세븐틴 (SEVENTEEN)'],\n",
       " ['바라만 본다', 'MSG워너비 (M.O.M)'],\n",
       " ['너를 생각해', '주시크 (Joosiq)'],\n",
       " ['나의 첫사랑', '다비치'],\n",
       " ['Permission to Dance', '방탄소년단'],\n",
       " ['Weekend', '태연 (TAEYEON)'],\n",
       " ['Butter', '방탄소년단'],\n",
       " ['Peaches (Feat. Daniel Caesar & Giveon)', 'Justin Bieber'],\n",
       " ['시간을 거슬러 (낮에 뜨는 달 X 케이윌)', '케이윌 (K.Will)'],\n",
       " ['가을 타나 봐', '이무진'],\n",
       " ['고백', '멜로망스 (MeloMance)'],\n",
       " ['이제 나만 믿어요', '임영웅'],\n",
       " ['Dynamite', '방탄소년단'],\n",
       " ['헤픈 우연', '헤이즈 (Heize)'],\n",
       " ['라일락', '아이유 (IU)'],\n",
       " ['문득', \"BE'O (비오)\"],\n",
       " ['찰나가 영원이 될 때 (The Eternal Moment)', '마크툽 (Maktub)'],\n",
       " ['좋아좋아', '조정석'],\n",
       " ['Cold Blooded', '제시'],\n",
       " ['Celebrity', '아이유 (IU)'],\n",
       " ['다시 사랑한다면 (김필 Ver.)', '임영웅'],\n",
       " ['Favorite (Vampire)', 'NCT 127'],\n",
       " ['여전히 아름다운지', '세븐틴 (SEVENTEEN)'],\n",
       " ['너는 내 세상이었어', '볼빨간사춘기'],\n",
       " ['비와 당신', '이무진'],\n",
       " ['별빛 같은 나의 사랑아', '임영웅'],\n",
       " [\"롤린 (Rollin')\", '브레이브걸스 (Brave girls)'],\n",
       " ['모든 날, 모든 순간 (Every day, Every Moment)', '폴킴'],\n",
       " ['At My Worst', 'Pink Sweat$'],\n",
       " ['Queendom', 'Red Velvet (레드벨벳)'],\n",
       " ['Off My Face', 'Justin Bieber'],\n",
       " ['소용돌이', '세븐틴 (SEVENTEEN)'],\n",
       " ['그대라는 사치', '임영웅'],\n",
       " ['DUMB DUMB', '전소미'],\n",
       " ['Dun Dun Dance', '오마이걸 (OH MY GIRL)'],\n",
       " ['Savage Love (Laxed - Siren Beat) (BTS Remix)',\n",
       "  'Jawsh 685 & Jason Derulo & 방탄소년단'],\n",
       " ['HERO', '임영웅']]"
      ]
     },
     "execution_count": 39,
     "metadata": {},
     "output_type": "execute_result"
    }
   ],
   "source": [
    "dj"
   ]
  },
  {
   "cell_type": "code",
   "execution_count": 34,
   "id": "a24bceb3",
   "metadata": {},
   "outputs": [],
   "source": [
    "with open('genie.csv', 'w') as f:\n",
    "    for i in range(50):\n",
    "        f.write('{0}, {1}, {2}\\n'.format(i+1, dj[i+1][0], dj[i+1][1]))"
   ]
  },
  {
   "cell_type": "code",
   "execution_count": 35,
   "id": "7fb69fd4",
   "metadata": {},
   "outputs": [],
   "source": [
    "#벅스"
   ]
  },
  {
   "cell_type": "code",
   "execution_count": 40,
   "id": "87dcf2fb",
   "metadata": {},
   "outputs": [],
   "source": [
    "driver = webdriver.Chrome('chromedriver')\n",
    "sleep(1)\n",
    "driver.get('https://music.bugs.co.kr/chart')"
   ]
  },
  {
   "cell_type": "code",
   "execution_count": 41,
   "id": "1b7dff49",
   "metadata": {},
   "outputs": [],
   "source": [
    "soup=BeautifulSoup(driver.page_source)"
   ]
  },
  {
   "cell_type": "code",
   "execution_count": 42,
   "id": "5cb247b3",
   "metadata": {},
   "outputs": [],
   "source": [
    "title3=soup.select('th>p.title')"
   ]
  },
  {
   "cell_type": "code",
   "execution_count": 43,
   "id": "47a59c42",
   "metadata": {},
   "outputs": [],
   "source": [
    "for li_tag in title3:\n",
    "    song_title3=li_tag.text.strip()"
   ]
  },
  {
   "cell_type": "code",
   "execution_count": 44,
   "id": "eb86dc6d",
   "metadata": {},
   "outputs": [],
   "source": [
    "singer3 = soup.select('td.left>p.artist')"
   ]
  },
  {
   "cell_type": "code",
   "execution_count": 45,
   "id": "05db1fa4",
   "metadata": {},
   "outputs": [],
   "source": [
    "for li_tag in singer3:\n",
    "    song_singer3 = li_tag.text.strip()"
   ]
  },
  {
   "cell_type": "code",
   "execution_count": 46,
   "id": "f973aac3",
   "metadata": {},
   "outputs": [
    {
     "data": {
      "text/plain": [
       "(100, 100)"
      ]
     },
     "execution_count": 46,
     "metadata": {},
     "output_type": "execute_result"
    }
   ],
   "source": [
    "len(singer3),len(title3)"
   ]
  },
  {
   "cell_type": "code",
   "execution_count": 47,
   "id": "7973cbeb",
   "metadata": {},
   "outputs": [],
   "source": [
    "db = []\n",
    "for n in range(100):\n",
    "    song_title3 = title3[n].text.strip()\n",
    "    song_singer3 = singer3[n].text.strip()\n",
    "    db.append([song_title3,song_singer3])\n",
    "#     db[n+1]=[] #n+1 index 값이 0 부터 시작이기떄문에\n",
    "#     db[n+1].append(song_title3)\n",
    "#     db[n+1].append(song_singer3)"
   ]
  },
  {
   "cell_type": "code",
   "execution_count": 48,
   "id": "791682c2",
   "metadata": {
    "scrolled": true
   },
   "outputs": [
    {
     "data": {
      "text/plain": [
       "[['strawberry moon', '아이유(IU)'],\n",
       " ['Savage', 'aespa'],\n",
       " ['나비효과', '볼빨간사춘기'],\n",
       " ['나 그댈위해 시 한편을 쓰겠어', '케이시'],\n",
       " ['너는 내 세상이었어', '볼빨간사춘기'],\n",
       " ['사랑은 늘 도망가', '임영웅'],\n",
       " ['Shivers', 'Ed Sheeran(에드 시런)'],\n",
       " ['STAY', 'The Kid LAROI\\n\\n\\nThe Kid LAROI'],\n",
       " ['Cold Blooded', '제시(Jessi)'],\n",
       " ['그래도 사랑이었잖아', '거미'],\n",
       " ['My Universe', 'Coldplay(콜드플레이)\\n\\n\\nColdplay(콜드플레이)'],\n",
       " ['나의 첫사랑', '다비치'],\n",
       " ['Next Level', 'aespa'],\n",
       " ['Easy On Me', 'Adele(아델)'],\n",
       " ['신호등', '이무진'],\n",
       " ['Rock with you', '세븐틴(SEVENTEEN)'],\n",
       " ['Hey Mama (feat. Nicki Minaj, Bebe Rexha & Afrojack)',\n",
       "  'David Guetta(데이빗 게타)'],\n",
       " ['Favorite (Vampire)', 'NCT 127'],\n",
       " ['낙하 (with 아이유)', 'AKMU(악뮤)'],\n",
       " ['Bad Habits', 'Ed Sheeran(에드 시런)'],\n",
       " ['Permission to Dance', '방탄소년단'],\n",
       " ['Weekend', '태연 (TAEYEON)'],\n",
       " ['찬란한 계절', '폴킴(Paul Kim)'],\n",
       " ['색안경 (STEREOTYPE)', 'STAYC(스테이씨)'],\n",
       " ['DUMB DUMB', '전소미'],\n",
       " ['고백', '멜로망스(MeloMance)'],\n",
       " ['Butter', '방탄소년단'],\n",
       " ['다정히 내 이름을 부르면', '경서예지\\n\\n\\n경서예지'],\n",
       " ['OHAYO MY NIGHT', '디핵(D-Hack)\\n\\n\\n디핵(D-Hack)'],\n",
       " ['그리워 그리워', '이예준'],\n",
       " ['가르치지마', '에일리(Ailee)'],\n",
       " ['LOCO', 'ITZY (있지)'],\n",
       " ['내 기억 속에 남아 있는 그대 모습은', '산들'],\n",
       " ['ASAP', 'STAYC(스테이씨)'],\n",
       " ['Better', '보아 (BoA)'],\n",
       " ['우리의 이야기', '멜로망스(MeloMance)'],\n",
       " ['사랑은 언제나 목마르다 (N번째 연애 X 이해리 (다비치))', '이해리'],\n",
       " ['Peaches (feat. Daniel Caesar, Giveon)', 'Justin Bieber(저스틴 비버)'],\n",
       " ['미워지지가 않아 (Unhateable)', '노을'],\n",
       " ['Loving You Girl (feat. Hkeem)', 'Peder Elias'],\n",
       " ['너를 생각해', '주시크 (Joosiq)'],\n",
       " ['Queendom', 'Red Velvet (레드벨벳)'],\n",
       " ['Celebrity', '아이유(IU)'],\n",
       " ['Dynamite', '방탄소년단'],\n",
       " ['가을 타나 봐', '이무진'],\n",
       " ['바라만 본다', 'MSG워너비(M.O.M)'],\n",
       " ['시간을 거슬러 (낮에 뜨는 달 X 케이윌)', '케이윌'],\n",
       " ['바래', 'HYNN(박혜원)'],\n",
       " ['산책', '백예린 (Yerin Baek)'],\n",
       " ['라일락', '아이유(IU)'],\n",
       " ['헤픈 우연', '헤이즈(Heize)'],\n",
       " ['Off My Face', 'Justin Bieber(저스틴 비버)'],\n",
       " ['에잇(Prod.&Feat. SUGA of BTS)', '아이유(IU)'],\n",
       " ['Black Mamba', 'aespa'],\n",
       " ['밤새 니가 내려', '케이시'],\n",
       " ['좋아좋아', '조정석'],\n",
       " ['Dun Dun Dance', '오마이걸(OH MY GIRL)'],\n",
       " ['내 손을 잡아', '아이유(IU)'],\n",
       " ['비와 당신', '이무진'],\n",
       " ['The Feels', 'TWICE (트와이스)'],\n",
       " ['비가 오는 날엔 (2021)', '헤이즈(Heize)'],\n",
       " ['어떻게 이별까지 사랑하겠어, 널 사랑하는 거지', 'AKMU(악뮤)'],\n",
       " ['빨간 립스틱 (Feat. 윤미래)', '이하이'],\n",
       " ['GLASSY', '조유리'],\n",
       " ['고백', '장범준'],\n",
       " ['싹둑 (Love Cut)', '씨엔블루(CNBLUE)'],\n",
       " ['가까운 듯 먼 그대여', '카더가든'],\n",
       " ['Blueming', '아이유(IU)'],\n",
       " ['찰나가 영원이 될 때 (The Eternal Moment)', '마크툽(MAKTUB)'],\n",
       " ['모든 날, 모든 순간 (Every day, Every Moment)', '폴킴(Paul Kim)'],\n",
       " ['고백', '신용재 (2F)'],\n",
       " [\"롤린 (Rollin')\", '브레이브걸스(Brave Girls)'],\n",
       " ['바람', '최유리'],\n",
       " ['Kiss Me More (feat. SZA)', 'Doja Cat(도자 캣)'],\n",
       " ['어푸 (Ah puh)', '아이유(IU)'],\n",
       " ['Antifreeze', '백예린 (Yerin Baek)'],\n",
       " ['Lovesick Girls', 'BLACKPINK'],\n",
       " ['언젠가는', '미도와 파라솔'],\n",
       " ['Crush', '세븐틴(SEVENTEEN)'],\n",
       " ['한계', '백예린 (Yerin Baek)'],\n",
       " ['Savage Love (Laxed - Siren Beat) (BTS Remix)', 'Jawsh 685\\n\\n\\nJawsh 685'],\n",
       " ['내게 애인이 생겼어요', '나훈아'],\n",
       " ['소용돌이', '세븐틴(SEVENTEEN)'],\n",
       " ['NO BREAK (Prod. GooseBumps & 사이먼 도미닉)',\n",
       "  '홀리뱅 (HolyBang)\\n\\n\\n홀리뱅 (HolyBang)'],\n",
       " ['흔들리는 꽃들 속에서 네 샴푸향이 느껴진거야', '장범준'],\n",
       " ['고백', '10CM'],\n",
       " ['가을 우체국 앞에서', '김대명'],\n",
       " ['긴 잠', '이수 (엠씨더맥스)'],\n",
       " ['Alcohol-Free', 'TWICE (트와이스)'],\n",
       " ['사랑했던 우리가 어떻게 친구가 되니', '송하예'],\n",
       " ['Face ID (Feat. 기리보이, Sik-K, JUSTHIS)', '에픽하이 (EPIK HIGH)'],\n",
       " ['하루만 더', '빅마마(Big Mama)'],\n",
       " ['PING PONG', '현아&던'],\n",
       " ['알아요', '린(LYn)'],\n",
       " ['How You Like That', 'BLACKPINK'],\n",
       " ['IF I', '백지영'],\n",
       " ['거짓말처럼', '펀치 (Punch)'],\n",
       " ['Butterfly', '전미도'],\n",
       " ['가을 타나 봐', '바이브'],\n",
       " ['매일 그대라서 행복하다', '세븐틴(SEVENTEEN)']]"
      ]
     },
     "execution_count": 48,
     "metadata": {},
     "output_type": "execute_result"
    }
   ],
   "source": [
    "db"
   ]
  },
  {
   "cell_type": "code",
   "execution_count": 32,
   "id": "c8a20197",
   "metadata": {},
   "outputs": [],
   "source": [
    "with open('bugs.csv', 'w') as f:\n",
    "    for i in range(100):\n",
    "        f.write('{0}, {1}, {2}\\n'.format(i+1, db[i+1][0], db[i+1][1]))"
   ]
  },
  {
   "cell_type": "code",
   "execution_count": 50,
   "id": "ac0a711d",
   "metadata": {},
   "outputs": [],
   "source": [
    "dm_data=pd.DataFrame(dm, columns = ['제목','가수'])\n",
    "dj_data=pd.DataFrame(dj, columns = ['제목','가수'])\n",
    "db_data=pd.DataFrame(db, columns = ['제목','가수'])"
   ]
  },
  {
   "cell_type": "code",
   "execution_count": 52,
   "id": "699e8569",
   "metadata": {},
   "outputs": [],
   "source": [
    "with pd.ExcelWriter('3chart.xlsx') as writer:\n",
    "    dm_data.to_excel(writer, encoding='utf-8', sheet_name='멜론차트')\n",
    "    dj_data.to_excel(writer, encoding='utf-8', sheet_name='지니차트')\n",
    "    db_data.to_excel(writer, encoding='utf-8', sheet_name='벅스차트')"
   ]
  },
  {
   "cell_type": "code",
   "execution_count": null,
   "id": "ea499131",
   "metadata": {},
   "outputs": [],
   "source": []
  }
 ],
 "metadata": {
  "kernelspec": {
   "display_name": "Python 3",
   "language": "python",
   "name": "python3"
  },
  "language_info": {
   "codemirror_mode": {
    "name": "ipython",
    "version": 3
   },
   "file_extension": ".py",
   "mimetype": "text/x-python",
   "name": "python",
   "nbconvert_exporter": "python",
   "pygments_lexer": "ipython3",
   "version": "3.8.8"
  }
 },
 "nbformat": 4,
 "nbformat_minor": 5
}
