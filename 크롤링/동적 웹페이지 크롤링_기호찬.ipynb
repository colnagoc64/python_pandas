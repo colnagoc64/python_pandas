{
 "cells": [
  {
   "cell_type": "code",
   "execution_count": 15,
   "id": "7a59b227",
   "metadata": {},
   "outputs": [],
   "source": [
    "# 동적 웹페이지 크롤링 필요한 모듈\n",
    "from selenium import webdriver \n",
    "import urllib.request\n",
    "from bs4 import BeautifulSoup\n",
    "import pandas as pd\n",
    "import time"
   ]
  },
  {
   "cell_type": "code",
   "execution_count": 23,
   "id": "4dcbcd17",
   "metadata": {},
   "outputs": [],
   "source": [
    "def CoffeeBean_store(result):\n",
    "    CoffeeBean_URL=\"https://www.coffeebeankorea.com/store/store.asp\"\n",
    "    wd= webdriver.Chrome('chromedriver')\n",
    "    for i in range(1,10): # 매장수만큼 반복\n",
    "        wd.get(CoffeeBean_URL)\n",
    "        time.sleep(1)\n",
    "        try:\n",
    "            wd.execute_script(\"storePop2(%d)\" %i) #관용적으로 실행시키기위해 =>자바스크립트에서 주로쓰임\n",
    "            time.sleep(1)\n",
    "            html = wd.page_source\n",
    "            soupCB=BeautifulSoup(html,'html.parser')\n",
    "            \n",
    "            store_name_h2 = soupCB.select('div.store_txt >h2') #tag 확인해서 선택\n",
    "            store_name =store_name_h2[0].string\n",
    "            print(store_name) #매장이름 검색\n",
    "            \n",
    "            store_info =soupCB.select(\"div.store_txt > table.store_table > tbody > tr > td\") # tag 확인해서 선택\n",
    "            store_address_list =list(store_info[2])\n",
    "            store_address =store_address_list[0] #전화번호 가져오기\n",
    "            store_phone = store_info[3].string\n",
    "            \n",
    "            result.append([store_name]+[store_address]+[store_phone]) #매장 이름 주소 전화번호 append 사용 \n",
    "        except:\n",
    "            continue\n",
    "    return"
   ]
  },
  {
   "cell_type": "code",
   "execution_count": 24,
   "id": "5cec69ee",
   "metadata": {},
   "outputs": [],
   "source": [
    "def main():\n",
    "    result=[]\n",
    "    print('CoffeeBean store crawling >>>>>>>>>>>>>>>>')\n",
    "    CoffeeBean_store(result)\n",
    "\n",
    "    CB_tbl=pd.DataFrame(result, columns=('store', 'address', 'phone'))\n",
    "    CB_tbl.to_csv('CoffeeBean.csv', encoding='cp949', mode='w', index=True)"
   ]
  },
  {
   "cell_type": "code",
   "execution_count": 25,
   "id": "40d8f215",
   "metadata": {},
   "outputs": [
    {
     "name": "stdout",
     "output_type": "stream",
     "text": [
      "CoffeeBean store crawling >>>>>>>>>>>>>>>>\n",
      "학동역 DT점\n",
      "차병원점\n",
      "강남대로점\n",
      "     store                    address         phone\n",
      "0  학동역 DT점       서울시 강남구 학동로 211 1층    02-3444-9973\n",
      "1     차병원점  서울시 강남구 논현로 566 강남차병원1층     02-538-7615\n",
      "2    강남대로점      서울시 서초구 강남대로 369 1층     02-588-5778\n"
     ]
    },
    {
     "ename": "NameError",
     "evalue": "name 'result' is not defined",
     "output_type": "error",
     "traceback": [
      "\u001b[1;31m---------------------------------------------------------------------------\u001b[0m",
      "\u001b[1;31mNameError\u001b[0m                                 Traceback (most recent call last)",
      "\u001b[1;32m<ipython-input-25-b6c377daa25f>\u001b[0m in \u001b[0;36m<module>\u001b[1;34m\u001b[0m\n\u001b[0;32m      1\u001b[0m \u001b[0mmain\u001b[0m\u001b[1;33m(\u001b[0m\u001b[1;33m)\u001b[0m\u001b[1;33m\u001b[0m\u001b[1;33m\u001b[0m\u001b[0m\n\u001b[1;32m----> 2\u001b[1;33m \u001b[0mprint\u001b[0m\u001b[1;33m(\u001b[0m\u001b[0mresult\u001b[0m\u001b[1;33m)\u001b[0m\u001b[1;33m\u001b[0m\u001b[1;33m\u001b[0m\u001b[0m\n\u001b[0m",
      "\u001b[1;31mNameError\u001b[0m: name 'result' is not defined"
     ]
    }
   ],
   "source": [
    "main()\n"
   ]
  },
  {
   "cell_type": "code",
   "execution_count": null,
   "id": "f40b7945",
   "metadata": {},
   "outputs": [],
   "source": []
  }
 ],
 "metadata": {
  "kernelspec": {
   "display_name": "Python 3",
   "language": "python",
   "name": "python3"
  },
  "language_info": {
   "codemirror_mode": {
    "name": "ipython",
    "version": 3
   },
   "file_extension": ".py",
   "mimetype": "text/x-python",
   "name": "python",
   "nbconvert_exporter": "python",
   "pygments_lexer": "ipython3",
   "version": "3.8.8"
  }
 },
 "nbformat": 4,
 "nbformat_minor": 5
}
