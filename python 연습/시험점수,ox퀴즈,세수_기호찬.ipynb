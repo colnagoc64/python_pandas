{
 "cells": [
  {
   "cell_type": "code",
   "execution_count": 21,
   "id": "b9594dd1",
   "metadata": {},
   "outputs": [
    {
     "name": "stdout",
     "output_type": "stream",
     "text": [
      "점수를입력하세요:59\n",
      "F\n"
     ]
    }
   ],
   "source": [
    "#시험점수\n",
    "score = int(input(\"점수를입력하세요:\"))\n",
    "\n",
    "if  90<=score <=100: \n",
    "    grade = \"A\"\n",
    "elif 80<=score <=89:\n",
    "    grade = \"B\"\n",
    "elif 70<=score <=79:\n",
    "    grade = \"C\"\n",
    "elif 60<=score <=69:\n",
    "    grade = \"D\"\n",
    "else:\n",
    "    grade = \"F\"\n",
    "\n",
    "print(grade)"
   ]
  },
  {
   "cell_type": "code",
   "execution_count": 20,
   "id": "8924b90b",
   "metadata": {},
   "outputs": [
    {
     "name": "stdout",
     "output_type": "stream",
     "text": [
      "10 20 30\n",
      "20\n"
     ]
    }
   ],
   "source": [
    "#세수\n",
    "threenum = list(map(int, input().split()))\n",
    "threenum.sort()\n",
    "\n",
    "print(threenum[1])"
   ]
  },
  {
   "cell_type": "code",
   "execution_count": 41,
   "id": "7af574bf",
   "metadata": {},
   "outputs": [
    {
     "name": "stdout",
     "output_type": "stream",
     "text": [
      "테스트 케이스 개수 : 2\n",
      "OX 입력: oxoooxoooxo\n",
      "점수: 0\n",
      "OX 입력: OOXOOOOx\n",
      "점수: 13\n"
     ]
    }
   ],
   "source": [
    "#ox퀴즈\n",
    "num = int(input('테스트 케이스 개수 : '))\n",
    "for _ in range(num):\n",
    "  case = input('OX 입력: ')\n",
    "  score = 0\n",
    "  count = 0\n",
    "  for i in list(case):\n",
    "    if i == 'O':\n",
    "      count += 1\n",
    "      score += count\n",
    "    else:\n",
    "      count = 0\n",
    "  print(f'점수: {score}')"
   ]
  }
 ],
 "metadata": {
  "kernelspec": {
   "display_name": "Python 3",
   "language": "python",
   "name": "python3"
  },
  "language_info": {
   "codemirror_mode": {
    "name": "ipython",
    "version": 3
   },
   "file_extension": ".py",
   "mimetype": "text/x-python",
   "name": "python",
   "nbconvert_exporter": "python",
   "pygments_lexer": "ipython3",
   "version": "3.8.8"
  }
 },
 "nbformat": 4,
 "nbformat_minor": 5
}
