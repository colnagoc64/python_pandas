{
 "cells": [
  {
   "cell_type": "markdown",
   "id": "3a3a356e",
   "metadata": {},
   "source": [
    "# 외국인비율 구하기 "
   ]
  },
  {
   "cell_type": "markdown",
   "id": "7070ee6e",
   "metadata": {},
   "source": [
    "## # 외국인 비율을 구하기 위하여 usecsv를 구성하여 import"
   ]
  },
  {
   "cell_type": "code",
   "execution_count": 2,
   "id": "9a142d31",
   "metadata": {},
   "outputs": [],
   "source": [
    "#import os, re ## os 모듈과 re 모듈은 항상 필요하기 때문에 먼저 임포트 합니다\n",
    "import usecsv ## usecsv 모듈을 임포트 합니다"
   ]
  },
  {
   "cell_type": "code",
   "execution_count": 47,
   "id": "53aa3521",
   "metadata": {},
   "outputs": [
    {
     "name": "stdout",
     "output_type": "stream",
     "text": [
      "[['Gu', 'Korean', 'Foreigner', 'Senior'], ['Total', '9,740,398', '285,529', '1,468,146'], ['Jongrogu', '151,767', '11,093', '27,394'], ['Jongru', '126,409', '10,254', '23,025'], ['Yongsangu', '228,830', '16,159', '38,531'], ['Seongdonggu', '303,158', '8,132', '43,662'], ['Kwangjingu', '352,692', '15,645', '47,347'], ['Dongdaemoongu', '346,551', '17,228', '58,764'], ['Jungranggu', '398,812', '4,964', '64,449'], ['Seongbukgu', '441,590', '12,524', '70,204'], ['Gangbukgu', '314,090', '3,785', '59,808'], ['Dobonggu', '335,280', '2,314', '58,070'], ['Nowonggu', '535,282', '4,547', '79,968'], ['Eunpyonggu', '481,663', '4,496', '79,957'], ['Seodaemungu', '310,069', '14,020', '51,708'], ['Mapogu', '373,629', '11,976', '51,961'], ['Yangcheongu', '459,849', '4,082', '60,487'], ['Gangseogu', '593,708', '6,532', '82,937'], ['Gurogu', '406,748', '33,102', '64,952'], ['Guemcheongu', '233,371', '19,497', '37,191'], ['Youngdeungpogu', '368,402', '34,076', '57,350'], ['Dongjakgu', '397,618', '12,869', '61,607'], ['Kwanakgu', '502,117', '17,836', '74,518'], ['Seoucheogu', '431,027', '4,231', '56,455'], ['Gangnamgu', '544,028', '5,015', '70,029'], ['Songpagu', '677,489', '6,849', '86,062'], ['Gangdonggu', '426,219', '4,303', '61,710']]\n"
     ]
    }
   ],
   "source": [
    "# 파일 열기 \n",
    "a=usecsv.opencsv('popSeoul.csv' )\n",
    "print(a)"
   ]
  },
  {
   "cell_type": "code",
   "execution_count": 39,
   "id": "07f108c1",
   "metadata": {},
   "outputs": [
    {
     "name": "stdout",
     "output_type": "stream",
     "text": [
      "[['Gu', 'Korean', 'Foreigner', 'Senior'], ['Total', 9740398.0, 285529.0, 1468146.0], ['Jongrogu', 151767.0, 11093.0, 27394.0], ['Jongru', 126409.0, 10254.0, 23025.0], ['Yongsangu', 228830.0, 16159.0, 38531.0], ['Seongdonggu', 303158.0, 8132.0, 43662.0], ['Kwangjingu', 352692.0, 15645.0, 47347.0], ['Dongdaemoongu', 346551.0, 17228.0, 58764.0], ['Jungranggu', 398812.0, 4964.0, 64449.0], ['Seongbukgu', 441590.0, 12524.0, 70204.0], ['Gangbukgu', 314090.0, 3785.0, 59808.0], ['Dobonggu', 335280.0, 2314.0, 58070.0], ['Nowonggu', 535282.0, 4547.0, 79968.0], ['Eunpyonggu', 481663.0, 4496.0, 79957.0], ['Seodaemungu', 310069.0, 14020.0, 51708.0], ['Mapogu', 373629.0, 11976.0, 51961.0], ['Yangcheongu', 459849.0, 4082.0, 60487.0], ['Gangseogu', 593708.0, 6532.0, 82937.0], ['Gurogu', 406748.0, 33102.0, 64952.0], ['Guemcheongu', 233371.0, 19497.0, 37191.0], ['Youngdeungpogu', 368402.0, 34076.0, 57350.0], ['Dongjakgu', 397618.0, 12869.0, 61607.0], ['Kwanakgu', 502117.0, 17836.0, 74518.0], ['Seoucheogu', 431027.0, 4231.0, 56455.0], ['Gangnamgu', 544028.0, 5015.0, 70029.0], ['Songpagu', 677489.0, 6849.0, 86062.0], ['Gangdonggu', 426219.0, 4303.0, 61710.0]]\n"
     ]
    }
   ],
   "source": [
    "# 콤마 등을 제거하는 함수 usecsv.switch를 사용합니다. \n",
    "b=usecsv.switch(a)\n",
    "print(b)"
   ]
  },
  {
   "cell_type": "code",
   "execution_count": 51,
   "id": "56c51a51",
   "metadata": {},
   "outputs": [
    {
     "name": "stdout",
     "output_type": "stream",
     "text": [
      "['Gu', 'Korean', 'Foreigner', 'Senior']\n",
      "['Total', 9740398.0, 285529.0, 1468146.0]\n",
      "['Jongrogu', 151767.0, 11093.0, 27394.0]\n",
      "['Jongru', 126409.0, 10254.0, 23025.0]\n",
      "['Yongsangu', 228830.0, 16159.0, 38531.0]\n"
     ]
    }
   ],
   "source": [
    "# 4번째 구까지만 시험으로 출력해봅니다. \n",
    "# print(b[:4]) 이것도 가능\n",
    "for i in range(5):\n",
    "    print(b[i])"
   ]
  },
  {
   "cell_type": "code",
   "execution_count": 57,
   "id": "223caaf1",
   "metadata": {},
   "outputs": [
    {
     "name": "stdout",
     "output_type": "stream",
     "text": [
      "Total 2.8\n",
      "Jongrogu 6.8\n",
      "Jongru 7.5\n",
      "Yongsangu 6.6\n",
      "Seongdonggu 2.6\n",
      "Kwangjingu 4.2\n",
      "Dongdaemoongu 4.7\n",
      "Jungranggu 1.2\n",
      "Seongbukgu 2.8\n",
      "Gangbukgu 1.2\n",
      "Dobonggu 0.7\n",
      "Nowonggu 0.8\n",
      "Eunpyonggu 0.9\n",
      "Seodaemungu 4.3\n",
      "Mapogu 3.1\n",
      "Yangcheongu 0.9\n",
      "Gangseogu 1.1\n",
      "Gurogu 7.5\n",
      "Guemcheongu 7.7\n",
      "Youngdeungpogu 8.5\n",
      "Dongjakgu 3.1\n",
      "Kwanakgu 3.4\n",
      "Seoucheogu 1.0\n",
      "Gangnamgu 0.9\n",
      "Songpagu 1.0\n",
      "Gangdonggu 1.0\n"
     ]
    }
   ],
   "source": [
    "for i in b:\n",
    "    foreign=0\n",
    "    try:\n",
    "        foreign=round(i[2]/(i[1]+i[2])*100,1)\n",
    "        print(i[0],foreign)\n",
    "    except:\n",
    "        pass\n",
    "new = [['구', '한국인', '외국인', '외국인 비율(%)']]\n",
    "for i in b:\n",
    "    foeign=0\n",
    "    try:\n",
    "        foreign=round(i[2]/(i[1]+i[2])*100,1)\n",
    "        if foreign > 3:\n",
    "            new.append([i[0], i[1],i[2],foreign])\n",
    "    except:\n",
    "        pass\n",
    "\n",
    "# 3% 넘는 구만 파일로 저장하기"
   ]
  },
  {
   "cell_type": "code",
   "execution_count": 58,
   "id": "1e31ab79",
   "metadata": {},
   "outputs": [],
   "source": [
    "usecsv.writecsv('b.csv',new)"
   ]
  },
  {
   "cell_type": "code",
   "execution_count": null,
   "id": "1f750432",
   "metadata": {},
   "outputs": [],
   "source": []
  }
 ],
 "metadata": {
  "kernelspec": {
   "display_name": "Python 3",
   "language": "python",
   "name": "python3"
  },
  "language_info": {
   "codemirror_mode": {
    "name": "ipython",
    "version": 3
   },
   "file_extension": ".py",
   "mimetype": "text/x-python",
   "name": "python",
   "nbconvert_exporter": "python",
   "pygments_lexer": "ipython3",
   "version": "3.8.8"
  }
 },
 "nbformat": 4,
 "nbformat_minor": 5
}
