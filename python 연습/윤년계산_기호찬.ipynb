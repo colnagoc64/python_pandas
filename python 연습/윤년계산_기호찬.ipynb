{
 "cells": [
  {
   "cell_type": "code",
   "execution_count": null,
   "id": "d7787178",
   "metadata": {},
   "outputs": [
    {
     "name": "stdout",
     "output_type": "stream",
     "text": [
      "2020\n",
      "2020 윤년입니다\n",
      "2024\n",
      "2024 윤년입니다\n"
     ]
    }
   ],
   "source": [
    "while True:\n",
    "    year = int(input())\n",
    "    \n",
    "    if year %4 ==0: #4배수아니면 false\n",
    "        if year %100 ==0: #100배수아니면 false\n",
    "            if year %400 ==0: #400배수 아니면 false\n",
    "                leap_year=True\n",
    "            else:\n",
    "                leap_year=False\n",
    "        else:\n",
    "            leap_year=True\n",
    "    else:\n",
    "        leap_year=False\n",
    "        \n",
    "    if leap_year:\n",
    "        print(f'{year} 윤년입니다')\n",
    "    else:\n",
    "        print(f'{year} 윤년이아닙니다')"
   ]
  },
  {
   "cell_type": "code",
   "execution_count": null,
   "id": "14e29556",
   "metadata": {},
   "outputs": [],
   "source": []
  }
 ],
 "metadata": {
  "kernelspec": {
   "display_name": "Python 3",
   "language": "python",
   "name": "python3"
  },
  "language_info": {
   "codemirror_mode": {
    "name": "ipython",
    "version": 3
   },
   "file_extension": ".py",
   "mimetype": "text/x-python",
   "name": "python",
   "nbconvert_exporter": "python",
   "pygments_lexer": "ipython3",
   "version": "3.8.8"
  }
 },
 "nbformat": 4,
 "nbformat_minor": 5
}
